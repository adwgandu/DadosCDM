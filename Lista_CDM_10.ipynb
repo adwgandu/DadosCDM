{
  "nbformat": 4,
  "nbformat_minor": 0,
  "metadata": {
    "colab": {
      "name": "Lista_CDM_10.ipynb",
      "provenance": [],
      "collapsed_sections": [],
      "include_colab_link": true
    },
    "kernelspec": {
      "name": "python3",
      "display_name": "Python 3"
    },
    "accelerator": "GPU"
  },
  "cells": [
    {
      "cell_type": "markdown",
      "metadata": {
        "id": "view-in-github",
        "colab_type": "text"
      },
      "source": [
        "<a href=\"https://colab.research.google.com/github/sakagamiyoshiaki/DadosCDM/blob/master/Lista_CDM_10.ipynb\" target=\"_parent\"><img src=\"https://colab.research.google.com/assets/colab-badge.svg\" alt=\"Open In Colab\"/></a>"
      ]
    },
    {
      "cell_type": "markdown",
      "metadata": {
        "id": "_mESWxoNAEXb",
        "colab_type": "text"
      },
      "source": [
        "# Lista de Exercício 10 - Consistência de Dados "
      ]
    },
    {
      "cell_type": "code",
      "metadata": {
        "colab_type": "code",
        "id": "PvDrEANffOJc",
        "outputId": "b47be783-a5a4-4ee7-c3f8-24552471a814",
        "colab": {
          "base_uri": "https://localhost:8080/",
          "height": 204
        }
      },
      "source": [
        "#Lista Exercício 10 - Pandas - Consistência\n",
        "#Cheat Sheet - Pandas Basics\n",
        "#Por: Yoshi\n",
        "#Data: Abril/2020\n",
        "\n",
        "#Principais bibliotecas\n",
        "import pandas as pd\n",
        "import numpy as np\n",
        "from matplotlib import pyplot as plt\n",
        "\n",
        "#!pip install mpld3\n",
        "#import mpld3\n",
        "#mpld3.enable_notebook()\n",
        "\n",
        "#Abrir o arquivo csv \n",
        "#uri='https://raw.githubusercontent.com/sakagamiyoshiaki/CDM/master/InmetFloripa2020.txt'\n",
        "uri='https://raw.githubusercontent.com/sakagamiyoshiaki/CDM/master/IFSC-032010.txt'\n",
        "\n",
        "df = pd.read_csv(uri,header=None); # Faz a leitura sem  e sem index\n",
        "\n",
        "df.head()"
      ],
      "execution_count": 0,
      "outputs": [
        {
          "output_type": "execute_result",
          "data": {
            "text/html": [
              "<div>\n",
              "<style scoped>\n",
              "    .dataframe tbody tr th:only-of-type {\n",
              "        vertical-align: middle;\n",
              "    }\n",
              "\n",
              "    .dataframe tbody tr th {\n",
              "        vertical-align: top;\n",
              "    }\n",
              "\n",
              "    .dataframe thead th {\n",
              "        text-align: right;\n",
              "    }\n",
              "</style>\n",
              "<table border=\"1\" class=\"dataframe\">\n",
              "  <thead>\n",
              "    <tr style=\"text-align: right;\">\n",
              "      <th></th>\n",
              "      <th>0</th>\n",
              "      <th>1</th>\n",
              "      <th>2</th>\n",
              "      <th>3</th>\n",
              "      <th>4</th>\n",
              "      <th>5</th>\n",
              "      <th>6</th>\n",
              "      <th>7</th>\n",
              "      <th>8</th>\n",
              "      <th>9</th>\n",
              "      <th>10</th>\n",
              "    </tr>\n",
              "  </thead>\n",
              "  <tbody>\n",
              "    <tr>\n",
              "      <th>0</th>\n",
              "      <td>2010</td>\n",
              "      <td>3</td>\n",
              "      <td>1</td>\n",
              "      <td>0</td>\n",
              "      <td>0</td>\n",
              "      <td>21.19</td>\n",
              "      <td>72.1</td>\n",
              "      <td>1014.7</td>\n",
              "      <td>0.0</td>\n",
              "      <td>2.422</td>\n",
              "      <td>181.5</td>\n",
              "    </tr>\n",
              "    <tr>\n",
              "      <th>1</th>\n",
              "      <td>2010</td>\n",
              "      <td>3</td>\n",
              "      <td>1</td>\n",
              "      <td>0</td>\n",
              "      <td>5</td>\n",
              "      <td>21.12</td>\n",
              "      <td>72.5</td>\n",
              "      <td>1014.7</td>\n",
              "      <td>0.0</td>\n",
              "      <td>3.397</td>\n",
              "      <td>193.8</td>\n",
              "    </tr>\n",
              "    <tr>\n",
              "      <th>2</th>\n",
              "      <td>2010</td>\n",
              "      <td>3</td>\n",
              "      <td>1</td>\n",
              "      <td>0</td>\n",
              "      <td>10</td>\n",
              "      <td>21.12</td>\n",
              "      <td>73.2</td>\n",
              "      <td>1014.6</td>\n",
              "      <td>0.0</td>\n",
              "      <td>2.950</td>\n",
              "      <td>188.1</td>\n",
              "    </tr>\n",
              "    <tr>\n",
              "      <th>3</th>\n",
              "      <td>2010</td>\n",
              "      <td>3</td>\n",
              "      <td>1</td>\n",
              "      <td>0</td>\n",
              "      <td>15</td>\n",
              "      <td>21.12</td>\n",
              "      <td>73.0</td>\n",
              "      <td>1014.6</td>\n",
              "      <td>0.0</td>\n",
              "      <td>2.754</td>\n",
              "      <td>192.0</td>\n",
              "    </tr>\n",
              "    <tr>\n",
              "      <th>4</th>\n",
              "      <td>2010</td>\n",
              "      <td>3</td>\n",
              "      <td>1</td>\n",
              "      <td>0</td>\n",
              "      <td>20</td>\n",
              "      <td>21.05</td>\n",
              "      <td>73.4</td>\n",
              "      <td>1014.6</td>\n",
              "      <td>0.0</td>\n",
              "      <td>3.986</td>\n",
              "      <td>203.1</td>\n",
              "    </tr>\n",
              "  </tbody>\n",
              "</table>\n",
              "</div>"
            ],
            "text/plain": [
              "     0   1   2   3   4      5     6       7    8      9      10\n",
              "0  2010   3   1   0   0  21.19  72.1  1014.7  0.0  2.422  181.5\n",
              "1  2010   3   1   0   5  21.12  72.5  1014.7  0.0  3.397  193.8\n",
              "2  2010   3   1   0  10  21.12  73.2  1014.6  0.0  2.950  188.1\n",
              "3  2010   3   1   0  15  21.12  73.0  1014.6  0.0  2.754  192.0\n",
              "4  2010   3   1   0  20  21.05  73.4  1014.6  0.0  3.986  203.1"
            ]
          },
          "metadata": {
            "tags": []
          },
          "execution_count": 1
        }
      ]
    },
    {
      "cell_type": "markdown",
      "metadata": {
        "id": "vrSRtTiV3mqe",
        "colab_type": "text"
      },
      "source": [
        "# 01) Dataframe - Inserir Cabeçalho e indexando o tempo\n",
        "\n",
        "---\n",
        "\n",
        "\n"
      ]
    },
    {
      "cell_type": "code",
      "metadata": {
        "id": "FBw6AZd76CFn",
        "colab_type": "code",
        "outputId": "7a8cbf6c-c45a-4fe0-d788-0bfba7c65b1f",
        "colab": {
          "base_uri": "https://localhost:8080/",
          "height": 68
        }
      },
      "source": [
        "df.columns=['year','month','day','hour','minute','tp','rh','pre','chuva','vel','dir']\n",
        "df.columns"
      ],
      "execution_count": 0,
      "outputs": [
        {
          "output_type": "execute_result",
          "data": {
            "text/plain": [
              "Index(['year', 'month', 'day', 'hour', 'minute', 'tp', 'rh', 'pre', 'chuva',\n",
              "       'vel', 'dir'],\n",
              "      dtype='object')"
            ]
          },
          "metadata": {
            "tags": []
          },
          "execution_count": 2
        }
      ]
    },
    {
      "cell_type": "code",
      "metadata": {
        "id": "qMETSQqR782y",
        "colab_type": "code",
        "outputId": "fd6d4e62-0acc-453a-fa2a-499dee221f2d",
        "colab": {
          "base_uri": "https://localhost:8080/",
          "height": 204
        }
      },
      "source": [
        "df.head()"
      ],
      "execution_count": 0,
      "outputs": [
        {
          "output_type": "execute_result",
          "data": {
            "text/html": [
              "<div>\n",
              "<style scoped>\n",
              "    .dataframe tbody tr th:only-of-type {\n",
              "        vertical-align: middle;\n",
              "    }\n",
              "\n",
              "    .dataframe tbody tr th {\n",
              "        vertical-align: top;\n",
              "    }\n",
              "\n",
              "    .dataframe thead th {\n",
              "        text-align: right;\n",
              "    }\n",
              "</style>\n",
              "<table border=\"1\" class=\"dataframe\">\n",
              "  <thead>\n",
              "    <tr style=\"text-align: right;\">\n",
              "      <th></th>\n",
              "      <th>year</th>\n",
              "      <th>month</th>\n",
              "      <th>day</th>\n",
              "      <th>hour</th>\n",
              "      <th>minute</th>\n",
              "      <th>tp</th>\n",
              "      <th>rh</th>\n",
              "      <th>pre</th>\n",
              "      <th>chuva</th>\n",
              "      <th>vel</th>\n",
              "      <th>dir</th>\n",
              "    </tr>\n",
              "  </thead>\n",
              "  <tbody>\n",
              "    <tr>\n",
              "      <th>0</th>\n",
              "      <td>2010</td>\n",
              "      <td>3</td>\n",
              "      <td>1</td>\n",
              "      <td>0</td>\n",
              "      <td>0</td>\n",
              "      <td>21.19</td>\n",
              "      <td>72.1</td>\n",
              "      <td>1014.7</td>\n",
              "      <td>0.0</td>\n",
              "      <td>2.422</td>\n",
              "      <td>181.5</td>\n",
              "    </tr>\n",
              "    <tr>\n",
              "      <th>1</th>\n",
              "      <td>2010</td>\n",
              "      <td>3</td>\n",
              "      <td>1</td>\n",
              "      <td>0</td>\n",
              "      <td>5</td>\n",
              "      <td>21.12</td>\n",
              "      <td>72.5</td>\n",
              "      <td>1014.7</td>\n",
              "      <td>0.0</td>\n",
              "      <td>3.397</td>\n",
              "      <td>193.8</td>\n",
              "    </tr>\n",
              "    <tr>\n",
              "      <th>2</th>\n",
              "      <td>2010</td>\n",
              "      <td>3</td>\n",
              "      <td>1</td>\n",
              "      <td>0</td>\n",
              "      <td>10</td>\n",
              "      <td>21.12</td>\n",
              "      <td>73.2</td>\n",
              "      <td>1014.6</td>\n",
              "      <td>0.0</td>\n",
              "      <td>2.950</td>\n",
              "      <td>188.1</td>\n",
              "    </tr>\n",
              "    <tr>\n",
              "      <th>3</th>\n",
              "      <td>2010</td>\n",
              "      <td>3</td>\n",
              "      <td>1</td>\n",
              "      <td>0</td>\n",
              "      <td>15</td>\n",
              "      <td>21.12</td>\n",
              "      <td>73.0</td>\n",
              "      <td>1014.6</td>\n",
              "      <td>0.0</td>\n",
              "      <td>2.754</td>\n",
              "      <td>192.0</td>\n",
              "    </tr>\n",
              "    <tr>\n",
              "      <th>4</th>\n",
              "      <td>2010</td>\n",
              "      <td>3</td>\n",
              "      <td>1</td>\n",
              "      <td>0</td>\n",
              "      <td>20</td>\n",
              "      <td>21.05</td>\n",
              "      <td>73.4</td>\n",
              "      <td>1014.6</td>\n",
              "      <td>0.0</td>\n",
              "      <td>3.986</td>\n",
              "      <td>203.1</td>\n",
              "    </tr>\n",
              "  </tbody>\n",
              "</table>\n",
              "</div>"
            ],
            "text/plain": [
              "   year  month  day  hour  minute     tp    rh     pre  chuva    vel    dir\n",
              "0  2010      3    1     0       0  21.19  72.1  1014.7    0.0  2.422  181.5\n",
              "1  2010      3    1     0       5  21.12  72.5  1014.7    0.0  3.397  193.8\n",
              "2  2010      3    1     0      10  21.12  73.2  1014.6    0.0  2.950  188.1\n",
              "3  2010      3    1     0      15  21.12  73.0  1014.6    0.0  2.754  192.0\n",
              "4  2010      3    1     0      20  21.05  73.4  1014.6    0.0  3.986  203.1"
            ]
          },
          "metadata": {
            "tags": []
          },
          "execution_count": 3
        }
      ]
    },
    {
      "cell_type": "code",
      "metadata": {
        "id": "Z7RTAHYu7HpQ",
        "colab_type": "code",
        "outputId": "410d3f7a-57f5-417f-c7b7-8a65340c71ba",
        "colab": {
          "base_uri": "https://localhost:8080/",
          "height": 34
        }
      },
      "source": [
        "df.index\n"
      ],
      "execution_count": 0,
      "outputs": [
        {
          "output_type": "execute_result",
          "data": {
            "text/plain": [
              "RangeIndex(start=0, stop=8928, step=1)"
            ]
          },
          "metadata": {
            "tags": []
          },
          "execution_count": 4
        }
      ]
    },
    {
      "cell_type": "code",
      "metadata": {
        "id": "BNogGTYl9YpQ",
        "colab_type": "code",
        "outputId": "e2bbfcfd-cf1f-4d3f-bc69-31067a2b6530",
        "colab": {
          "base_uri": "https://localhost:8080/",
          "height": 235
        }
      },
      "source": [
        "df['date']=pd.to_datetime(df[['year', 'month', 'day', 'hour','minute']])\n",
        "df.index=df['date']\n",
        "df=df.drop(['date'],axis=1)\n",
        "df.head()"
      ],
      "execution_count": 0,
      "outputs": [
        {
          "output_type": "execute_result",
          "data": {
            "text/html": [
              "<div>\n",
              "<style scoped>\n",
              "    .dataframe tbody tr th:only-of-type {\n",
              "        vertical-align: middle;\n",
              "    }\n",
              "\n",
              "    .dataframe tbody tr th {\n",
              "        vertical-align: top;\n",
              "    }\n",
              "\n",
              "    .dataframe thead th {\n",
              "        text-align: right;\n",
              "    }\n",
              "</style>\n",
              "<table border=\"1\" class=\"dataframe\">\n",
              "  <thead>\n",
              "    <tr style=\"text-align: right;\">\n",
              "      <th></th>\n",
              "      <th>year</th>\n",
              "      <th>month</th>\n",
              "      <th>day</th>\n",
              "      <th>hour</th>\n",
              "      <th>minute</th>\n",
              "      <th>tp</th>\n",
              "      <th>rh</th>\n",
              "      <th>pre</th>\n",
              "      <th>chuva</th>\n",
              "      <th>vel</th>\n",
              "      <th>dir</th>\n",
              "    </tr>\n",
              "    <tr>\n",
              "      <th>date</th>\n",
              "      <th></th>\n",
              "      <th></th>\n",
              "      <th></th>\n",
              "      <th></th>\n",
              "      <th></th>\n",
              "      <th></th>\n",
              "      <th></th>\n",
              "      <th></th>\n",
              "      <th></th>\n",
              "      <th></th>\n",
              "      <th></th>\n",
              "    </tr>\n",
              "  </thead>\n",
              "  <tbody>\n",
              "    <tr>\n",
              "      <th>2010-03-01 00:00:00</th>\n",
              "      <td>2010</td>\n",
              "      <td>3</td>\n",
              "      <td>1</td>\n",
              "      <td>0</td>\n",
              "      <td>0</td>\n",
              "      <td>21.19</td>\n",
              "      <td>72.1</td>\n",
              "      <td>1014.7</td>\n",
              "      <td>0.0</td>\n",
              "      <td>2.422</td>\n",
              "      <td>181.5</td>\n",
              "    </tr>\n",
              "    <tr>\n",
              "      <th>2010-03-01 00:05:00</th>\n",
              "      <td>2010</td>\n",
              "      <td>3</td>\n",
              "      <td>1</td>\n",
              "      <td>0</td>\n",
              "      <td>5</td>\n",
              "      <td>21.12</td>\n",
              "      <td>72.5</td>\n",
              "      <td>1014.7</td>\n",
              "      <td>0.0</td>\n",
              "      <td>3.397</td>\n",
              "      <td>193.8</td>\n",
              "    </tr>\n",
              "    <tr>\n",
              "      <th>2010-03-01 00:10:00</th>\n",
              "      <td>2010</td>\n",
              "      <td>3</td>\n",
              "      <td>1</td>\n",
              "      <td>0</td>\n",
              "      <td>10</td>\n",
              "      <td>21.12</td>\n",
              "      <td>73.2</td>\n",
              "      <td>1014.6</td>\n",
              "      <td>0.0</td>\n",
              "      <td>2.950</td>\n",
              "      <td>188.1</td>\n",
              "    </tr>\n",
              "    <tr>\n",
              "      <th>2010-03-01 00:15:00</th>\n",
              "      <td>2010</td>\n",
              "      <td>3</td>\n",
              "      <td>1</td>\n",
              "      <td>0</td>\n",
              "      <td>15</td>\n",
              "      <td>21.12</td>\n",
              "      <td>73.0</td>\n",
              "      <td>1014.6</td>\n",
              "      <td>0.0</td>\n",
              "      <td>2.754</td>\n",
              "      <td>192.0</td>\n",
              "    </tr>\n",
              "    <tr>\n",
              "      <th>2010-03-01 00:20:00</th>\n",
              "      <td>2010</td>\n",
              "      <td>3</td>\n",
              "      <td>1</td>\n",
              "      <td>0</td>\n",
              "      <td>20</td>\n",
              "      <td>21.05</td>\n",
              "      <td>73.4</td>\n",
              "      <td>1014.6</td>\n",
              "      <td>0.0</td>\n",
              "      <td>3.986</td>\n",
              "      <td>203.1</td>\n",
              "    </tr>\n",
              "  </tbody>\n",
              "</table>\n",
              "</div>"
            ],
            "text/plain": [
              "                     year  month  day  hour  ...     pre  chuva    vel    dir\n",
              "date                                         ...                             \n",
              "2010-03-01 00:00:00  2010      3    1     0  ...  1014.7    0.0  2.422  181.5\n",
              "2010-03-01 00:05:00  2010      3    1     0  ...  1014.7    0.0  3.397  193.8\n",
              "2010-03-01 00:10:00  2010      3    1     0  ...  1014.6    0.0  2.950  188.1\n",
              "2010-03-01 00:15:00  2010      3    1     0  ...  1014.6    0.0  2.754  192.0\n",
              "2010-03-01 00:20:00  2010      3    1     0  ...  1014.6    0.0  3.986  203.1\n",
              "\n",
              "[5 rows x 11 columns]"
            ]
          },
          "metadata": {
            "tags": []
          },
          "execution_count": 5
        }
      ]
    },
    {
      "cell_type": "code",
      "metadata": {
        "id": "FsZzw6Xz9fSP",
        "colab_type": "code",
        "outputId": "de8ffd0f-f6c9-4d82-a090-6a5651db7cb0",
        "colab": {
          "base_uri": "https://localhost:8080/",
          "height": 282
        }
      },
      "source": [
        "plt.plot(df.tp)"
      ],
      "execution_count": 0,
      "outputs": [
        {
          "output_type": "execute_result",
          "data": {
            "text/plain": [
              "[<matplotlib.lines.Line2D at 0x7f1ebb2f1b00>]"
            ]
          },
          "metadata": {
            "tags": []
          },
          "execution_count": 6
        },
        {
          "output_type": "display_data",
          "data": {
            "image/png": "[encoded data removed]",
            "text/plain": [
              "<Figure size 432x288 with 1 Axes>"
            ]
          },
          "metadata": {
            "tags": [],
            "needs_background": "light"
          }
        }
      ]
    },
    {
      "cell_type": "markdown",
      "metadata": {
        "id": "ylWPJ2qF91MZ",
        "colab_type": "text"
      },
      "source": [
        "# 02) Dataframe - Identificar dados vazios na série"
      ]
    },
    {
      "cell_type": "code",
      "metadata": {
        "id": "uoRHP3Sj5TRW",
        "colab_type": "code",
        "outputId": "dafa5e1a-ee93-4f6c-df57-708b6c81d826",
        "colab": {
          "base_uri": "https://localhost:8080/",
          "height": 282
        }
      },
      "source": [
        "df = pd.read_csv(uri,header=None); # Faz a leitura sem  e sem index\n",
        "df.columns=['year','month','day','hour','minute','tp','rh','pre','chuva','vel','dir'] # define o nome das colunas\n",
        "plt.plot(df.tp)                  # gráfico com a série completa\n",
        "df2=df.drop(range(1000,2000,1))  # exclusão de 1000 linhas \n",
        "df2=df2.reset_index()            # reset no index do dataframe\n",
        "plt.plot(df2.tp)                 # gráfico com a série imcompleta"
      ],
      "execution_count": 0,
      "outputs": [
        {
          "output_type": "execute_result",
          "data": {
            "text/plain": [
              "[<matplotlib.lines.Line2D at 0x7f1eb9d52b38>]"
            ]
          },
          "metadata": {
            "tags": []
          },
          "execution_count": 7
        },
        {
          "output_type": "display_data",
          "data": {
            "image/png": "[encoded data removed]",
            "text/plain": [
              "<Figure size 432x288 with 1 Axes>"
            ]
          },
          "metadata": {
            "tags": [],
            "needs_background": "light"
          }
        }
      ]
    },
    {
      "cell_type": "code",
      "metadata": {
        "id": "_XEAeRAm8zWQ",
        "colab_type": "code",
        "outputId": "c097276c-4c44-4f68-e2f2-9624e3f33662",
        "colab": {
          "base_uri": "https://localhost:8080/",
          "height": 235
        }
      },
      "source": [
        "df2['date']=pd.to_datetime(df2[['year', 'month', 'day', 'hour','minute']])\n",
        "df2.index=df2['date']\n",
        "df2=df2.drop(['date'],axis=1)\n",
        "df2.head()"
      ],
      "execution_count": 0,
      "outputs": [
        {
          "output_type": "execute_result",
          "data": {
            "text/html": [
              "<div>\n",
              "<style scoped>\n",
              "    .dataframe tbody tr th:only-of-type {\n",
              "        vertical-align: middle;\n",
              "    }\n",
              "\n",
              "    .dataframe tbody tr th {\n",
              "        vertical-align: top;\n",
              "    }\n",
              "\n",
              "    .dataframe thead th {\n",
              "        text-align: right;\n",
              "    }\n",
              "</style>\n",
              "<table border=\"1\" class=\"dataframe\">\n",
              "  <thead>\n",
              "    <tr style=\"text-align: right;\">\n",
              "      <th></th>\n",
              "      <th>index</th>\n",
              "      <th>year</th>\n",
              "      <th>month</th>\n",
              "      <th>day</th>\n",
              "      <th>hour</th>\n",
              "      <th>minute</th>\n",
              "      <th>tp</th>\n",
              "      <th>rh</th>\n",
              "      <th>pre</th>\n",
              "      <th>chuva</th>\n",
              "      <th>vel</th>\n",
              "      <th>dir</th>\n",
              "    </tr>\n",
              "    <tr>\n",
              "      <th>date</th>\n",
              "      <th></th>\n",
              "      <th></th>\n",
              "      <th></th>\n",
              "      <th></th>\n",
              "      <th></th>\n",
              "      <th></th>\n",
              "      <th></th>\n",
              "      <th></th>\n",
              "      <th></th>\n",
              "      <th></th>\n",
              "      <th></th>\n",
              "      <th></th>\n",
              "    </tr>\n",
              "  </thead>\n",
              "  <tbody>\n",
              "    <tr>\n",
              "      <th>2010-03-01 00:00:00</th>\n",
              "      <td>0</td>\n",
              "      <td>2010</td>\n",
              "      <td>3</td>\n",
              "      <td>1</td>\n",
              "      <td>0</td>\n",
              "      <td>0</td>\n",
              "      <td>21.19</td>\n",
              "      <td>72.1</td>\n",
              "      <td>1014.7</td>\n",
              "      <td>0.0</td>\n",
              "      <td>2.422</td>\n",
              "      <td>181.5</td>\n",
              "    </tr>\n",
              "    <tr>\n",
              "      <th>2010-03-01 00:05:00</th>\n",
              "      <td>1</td>\n",
              "      <td>2010</td>\n",
              "      <td>3</td>\n",
              "      <td>1</td>\n",
              "      <td>0</td>\n",
              "      <td>5</td>\n",
              "      <td>21.12</td>\n",
              "      <td>72.5</td>\n",
              "      <td>1014.7</td>\n",
              "      <td>0.0</td>\n",
              "      <td>3.397</td>\n",
              "      <td>193.8</td>\n",
              "    </tr>\n",
              "    <tr>\n",
              "      <th>2010-03-01 00:10:00</th>\n",
              "      <td>2</td>\n",
              "      <td>2010</td>\n",
              "      <td>3</td>\n",
              "      <td>1</td>\n",
              "      <td>0</td>\n",
              "      <td>10</td>\n",
              "      <td>21.12</td>\n",
              "      <td>73.2</td>\n",
              "      <td>1014.6</td>\n",
              "      <td>0.0</td>\n",
              "      <td>2.950</td>\n",
              "      <td>188.1</td>\n",
              "    </tr>\n",
              "    <tr>\n",
              "      <th>2010-03-01 00:15:00</th>\n",
              "      <td>3</td>\n",
              "      <td>2010</td>\n",
              "      <td>3</td>\n",
              "      <td>1</td>\n",
              "      <td>0</td>\n",
              "      <td>15</td>\n",
              "      <td>21.12</td>\n",
              "      <td>73.0</td>\n",
              "      <td>1014.6</td>\n",
              "      <td>0.0</td>\n",
              "      <td>2.754</td>\n",
              "      <td>192.0</td>\n",
              "    </tr>\n",
              "    <tr>\n",
              "      <th>2010-03-01 00:20:00</th>\n",
              "      <td>4</td>\n",
              "      <td>2010</td>\n",
              "      <td>3</td>\n",
              "      <td>1</td>\n",
              "      <td>0</td>\n",
              "      <td>20</td>\n",
              "      <td>21.05</td>\n",
              "      <td>73.4</td>\n",
              "      <td>1014.6</td>\n",
              "      <td>0.0</td>\n",
              "      <td>3.986</td>\n",
              "      <td>203.1</td>\n",
              "    </tr>\n",
              "  </tbody>\n",
              "</table>\n",
              "</div>"
            ],
            "text/plain": [
              "                     index  year  month  day  ...     pre  chuva    vel    dir\n",
              "date                                          ...                             \n",
              "2010-03-01 00:00:00      0  2010      3    1  ...  1014.7    0.0  2.422  181.5\n",
              "2010-03-01 00:05:00      1  2010      3    1  ...  1014.7    0.0  3.397  193.8\n",
              "2010-03-01 00:10:00      2  2010      3    1  ...  1014.6    0.0  2.950  188.1\n",
              "2010-03-01 00:15:00      3  2010      3    1  ...  1014.6    0.0  2.754  192.0\n",
              "2010-03-01 00:20:00      4  2010      3    1  ...  1014.6    0.0  3.986  203.1\n",
              "\n",
              "[5 rows x 12 columns]"
            ]
          },
          "metadata": {
            "tags": []
          },
          "execution_count": 8
        }
      ]
    },
    {
      "cell_type": "code",
      "metadata": {
        "id": "4psRPJLX9ZwC",
        "colab_type": "code",
        "outputId": "f2eef413-e43a-4aac-c7a8-122c518db8c4",
        "colab": {
          "base_uri": "https://localhost:8080/",
          "height": 282
        }
      },
      "source": [
        "plt.plot(df2.tp) # faz o gráfico com os dados vazios na série"
      ],
      "execution_count": 0,
      "outputs": [
        {
          "output_type": "execute_result",
          "data": {
            "text/plain": [
              "[<matplotlib.lines.Line2D at 0x7f1eb9d124e0>]"
            ]
          },
          "metadata": {
            "tags": []
          },
          "execution_count": 9
        },
        {
          "output_type": "display_data",
          "data": {
            "image/png": "[encoded data removed]",
            "text/plain": [
              "<Figure size 432x288 with 1 Axes>"
            ]
          },
          "metadata": {
            "tags": [],
            "needs_background": "light"
          }
        }
      ]
    },
    {
      "cell_type": "code",
      "metadata": {
        "id": "SwaXUome-ubP",
        "colab_type": "code",
        "colab": {}
      },
      "source": [
        "#df2['2010-03-04 10:00:00':'2010-03-08 13:00:00'].tp\n",
        "df2['tp'].to_csv('saida.txt') # ver a saída de dados com linhas vazias\n"
      ],
      "execution_count": 0,
      "outputs": []
    },
    {
      "cell_type": "markdown",
      "metadata": {
        "id": "KCU7fIO-eBDH",
        "colab_type": "text"
      },
      "source": [
        "# 03) Dataframe - Preencher timestamp da série temporal - Reindexar\n"
      ]
    },
    {
      "cell_type": "code",
      "metadata": {
        "id": "zxTLK7Q4BX0I",
        "colab_type": "code",
        "outputId": "19de16be-6290-4453-e5a6-bcfbfd6f5fda",
        "colab": {
          "base_uri": "https://localhost:8080/",
          "height": 265
        }
      },
      "source": [
        "dt=pd.date_range(start='2010-03-01 00:00:00',end='2010-03-31 23:55:00',freq='05min'); # criar uma série temporal inteira\n",
        "idx=pd.DatetimeIndex(dt)\n",
        "df2 = df2.reindex(idx)\n",
        "\n",
        "plt.plot(df2.tp)\n",
        "df2['tp'].to_csv('saida2.txt') # ver a saída de dados com linhas vazias\n"
      ],
      "execution_count": 0,
      "outputs": [
        {
          "output_type": "display_data",
          "data": {
            "image/png": "[encoded data removed]",
            "text/plain": [
              "<Figure size 432x288 with 1 Axes>"
            ]
          },
          "metadata": {
            "tags": [],
            "needs_background": "light"
          }
        }
      ]
    },
    {
      "cell_type": "markdown",
      "metadata": {
        "id": "F3Qek2jZJCK8",
        "colab_type": "text"
      },
      "source": [
        "# 04) Dataframe - Dados duplicados - Caso 01"
      ]
    },
    {
      "cell_type": "code",
      "metadata": {
        "id": "O1d4ABqdQ2WM",
        "colab_type": "code",
        "outputId": "e93dbfb7-2849-4317-fb28-001f233d2122",
        "colab": {
          "base_uri": "https://localhost:8080/",
          "height": 282
        }
      },
      "source": [
        "df3=df2.copy()\n",
        "df4=pd.concat([df3.loc['2010-03-20 00:00:00':'2010-03-20 00:00:00',:]]*2000, ignore_index=False) # replicando linhas\n",
        "df5=pd.concat([df4,df3],axis=0)\n",
        "df5=df5.sort_index()\n",
        "df5.head(15)\n",
        "plt.plot(np.arange(0,len(df5),1),df5.tp)\n",
        "plt.plot(np.arange(0,len(df2),1),df2.tp)\n"
      ],
      "execution_count": 0,
      "outputs": [
        {
          "output_type": "execute_result",
          "data": {
            "text/plain": [
              "[<matplotlib.lines.Line2D at 0x7f1eb9d1a358>]"
            ]
          },
          "metadata": {
            "tags": []
          },
          "execution_count": 12
        },
        {
          "output_type": "display_data",
          "data": {
            "image/png": "[encoded data removed]",
            "text/plain": [
              "<Figure size 432x288 with 1 Axes>"
            ]
          },
          "metadata": {
            "tags": [],
            "needs_background": "light"
          }
        }
      ]
    },
    {
      "cell_type": "code",
      "metadata": {
        "id": "Ybhvcv0eR5i7",
        "colab_type": "code",
        "outputId": "7f7809da-c617-487a-f91a-aa1818547250",
        "colab": {
          "base_uri": "https://localhost:8080/",
          "height": 282
        }
      },
      "source": [
        "df6=df5.loc[~df5.index.duplicated(keep='last')] # separa apenas os dados não duplicados\n",
        "plt.plot(np.arange(0,len(df6),1),df6.tp)\n",
        "plt.plot(np.arange(0,len(df2),1),df2.tp)\n"
      ],
      "execution_count": 0,
      "outputs": [
        {
          "output_type": "execute_result",
          "data": {
            "text/plain": [
              "[<matplotlib.lines.Line2D at 0x7f1eb9956630>]"
            ]
          },
          "metadata": {
            "tags": []
          },
          "execution_count": 13
        },
        {
          "output_type": "display_data",
          "data": {
            "image/png": "[encoded data removed]",
            "text/plain": [
              "<Figure size 432x288 with 1 Axes>"
            ]
          },
          "metadata": {
            "tags": [],
            "needs_background": "light"
          }
        }
      ]
    },
    {
      "cell_type": "markdown",
      "metadata": {
        "id": "Lfw4PrPsWlrq",
        "colab_type": "text"
      },
      "source": [
        "# 05) Dataframe - Dados duplicados - Caso 02"
      ]
    },
    {
      "cell_type": "code",
      "metadata": {
        "id": "-FSI2-xlKg-y",
        "colab_type": "code",
        "outputId": "15a20544-e408-4f8b-d150-b231d479dcf9",
        "colab": {
          "base_uri": "https://localhost:8080/",
          "height": 359
        }
      },
      "source": [
        "df2.head(10)"
      ],
      "execution_count": 0,
      "outputs": [
        {
          "output_type": "execute_result",
          "data": {
            "text/html": [
              "<div>\n",
              "<style scoped>\n",
              "    .dataframe tbody tr th:only-of-type {\n",
              "        vertical-align: middle;\n",
              "    }\n",
              "\n",
              "    .dataframe tbody tr th {\n",
              "        vertical-align: top;\n",
              "    }\n",
              "\n",
              "    .dataframe thead th {\n",
              "        text-align: right;\n",
              "    }\n",
              "</style>\n",
              "<table border=\"1\" class=\"dataframe\">\n",
              "  <thead>\n",
              "    <tr style=\"text-align: right;\">\n",
              "      <th></th>\n",
              "      <th>index</th>\n",
              "      <th>year</th>\n",
              "      <th>month</th>\n",
              "      <th>day</th>\n",
              "      <th>hour</th>\n",
              "      <th>minute</th>\n",
              "      <th>tp</th>\n",
              "      <th>rh</th>\n",
              "      <th>pre</th>\n",
              "      <th>chuva</th>\n",
              "      <th>vel</th>\n",
              "      <th>dir</th>\n",
              "    </tr>\n",
              "  </thead>\n",
              "  <tbody>\n",
              "    <tr>\n",
              "      <th>2010-03-01 00:00:00</th>\n",
              "      <td>0.0</td>\n",
              "      <td>2010.0</td>\n",
              "      <td>3.0</td>\n",
              "      <td>1.0</td>\n",
              "      <td>0.0</td>\n",
              "      <td>0.0</td>\n",
              "      <td>21.19</td>\n",
              "      <td>72.1</td>\n",
              "      <td>1014.7</td>\n",
              "      <td>0.0</td>\n",
              "      <td>2.422</td>\n",
              "      <td>181.5</td>\n",
              "    </tr>\n",
              "    <tr>\n",
              "      <th>2010-03-01 00:05:00</th>\n",
              "      <td>1.0</td>\n",
              "      <td>2010.0</td>\n",
              "      <td>3.0</td>\n",
              "      <td>1.0</td>\n",
              "      <td>0.0</td>\n",
              "      <td>5.0</td>\n",
              "      <td>21.12</td>\n",
              "      <td>72.5</td>\n",
              "      <td>1014.7</td>\n",
              "      <td>0.0</td>\n",
              "      <td>3.397</td>\n",
              "      <td>193.8</td>\n",
              "    </tr>\n",
              "    <tr>\n",
              "      <th>2010-03-01 00:10:00</th>\n",
              "      <td>2.0</td>\n",
              "      <td>2010.0</td>\n",
              "      <td>3.0</td>\n",
              "      <td>1.0</td>\n",
              "      <td>0.0</td>\n",
              "      <td>10.0</td>\n",
              "      <td>21.12</td>\n",
              "      <td>73.2</td>\n",
              "      <td>1014.6</td>\n",
              "      <td>0.0</td>\n",
              "      <td>2.950</td>\n",
              "      <td>188.1</td>\n",
              "    </tr>\n",
              "    <tr>\n",
              "      <th>2010-03-01 00:15:00</th>\n",
              "      <td>3.0</td>\n",
              "      <td>2010.0</td>\n",
              "      <td>3.0</td>\n",
              "      <td>1.0</td>\n",
              "      <td>0.0</td>\n",
              "      <td>15.0</td>\n",
              "      <td>21.12</td>\n",
              "      <td>73.0</td>\n",
              "      <td>1014.6</td>\n",
              "      <td>0.0</td>\n",
              "      <td>2.754</td>\n",
              "      <td>192.0</td>\n",
              "    </tr>\n",
              "    <tr>\n",
              "      <th>2010-03-01 00:20:00</th>\n",
              "      <td>4.0</td>\n",
              "      <td>2010.0</td>\n",
              "      <td>3.0</td>\n",
              "      <td>1.0</td>\n",
              "      <td>0.0</td>\n",
              "      <td>20.0</td>\n",
              "      <td>21.05</td>\n",
              "      <td>73.4</td>\n",
              "      <td>1014.6</td>\n",
              "      <td>0.0</td>\n",
              "      <td>3.986</td>\n",
              "      <td>203.1</td>\n",
              "    </tr>\n",
              "    <tr>\n",
              "      <th>2010-03-01 00:25:00</th>\n",
              "      <td>5.0</td>\n",
              "      <td>2010.0</td>\n",
              "      <td>3.0</td>\n",
              "      <td>1.0</td>\n",
              "      <td>0.0</td>\n",
              "      <td>25.0</td>\n",
              "      <td>21.09</td>\n",
              "      <td>72.8</td>\n",
              "      <td>1014.6</td>\n",
              "      <td>0.0</td>\n",
              "      <td>2.765</td>\n",
              "      <td>198.9</td>\n",
              "    </tr>\n",
              "    <tr>\n",
              "      <th>2010-03-01 00:30:00</th>\n",
              "      <td>6.0</td>\n",
              "      <td>2010.0</td>\n",
              "      <td>3.0</td>\n",
              "      <td>1.0</td>\n",
              "      <td>0.0</td>\n",
              "      <td>30.0</td>\n",
              "      <td>21.09</td>\n",
              "      <td>73.6</td>\n",
              "      <td>1014.6</td>\n",
              "      <td>0.0</td>\n",
              "      <td>2.878</td>\n",
              "      <td>193.4</td>\n",
              "    </tr>\n",
              "    <tr>\n",
              "      <th>2010-03-01 00:35:00</th>\n",
              "      <td>7.0</td>\n",
              "      <td>2010.0</td>\n",
              "      <td>3.0</td>\n",
              "      <td>1.0</td>\n",
              "      <td>0.0</td>\n",
              "      <td>35.0</td>\n",
              "      <td>20.95</td>\n",
              "      <td>73.5</td>\n",
              "      <td>1014.4</td>\n",
              "      <td>0.0</td>\n",
              "      <td>2.802</td>\n",
              "      <td>194.8</td>\n",
              "    </tr>\n",
              "    <tr>\n",
              "      <th>2010-03-01 00:40:00</th>\n",
              "      <td>8.0</td>\n",
              "      <td>2010.0</td>\n",
              "      <td>3.0</td>\n",
              "      <td>1.0</td>\n",
              "      <td>0.0</td>\n",
              "      <td>40.0</td>\n",
              "      <td>21.09</td>\n",
              "      <td>73.5</td>\n",
              "      <td>1014.4</td>\n",
              "      <td>0.0</td>\n",
              "      <td>2.740</td>\n",
              "      <td>193.4</td>\n",
              "    </tr>\n",
              "    <tr>\n",
              "      <th>2010-03-01 00:45:00</th>\n",
              "      <td>9.0</td>\n",
              "      <td>2010.0</td>\n",
              "      <td>3.0</td>\n",
              "      <td>1.0</td>\n",
              "      <td>0.0</td>\n",
              "      <td>45.0</td>\n",
              "      <td>20.92</td>\n",
              "      <td>73.3</td>\n",
              "      <td>1014.3</td>\n",
              "      <td>0.0</td>\n",
              "      <td>2.514</td>\n",
              "      <td>192.2</td>\n",
              "    </tr>\n",
              "  </tbody>\n",
              "</table>\n",
              "</div>"
            ],
            "text/plain": [
              "                     index    year  month  day  ...     pre  chuva    vel    dir\n",
              "2010-03-01 00:00:00    0.0  2010.0    3.0  1.0  ...  1014.7    0.0  2.422  181.5\n",
              "2010-03-01 00:05:00    1.0  2010.0    3.0  1.0  ...  1014.7    0.0  3.397  193.8\n",
              "2010-03-01 00:10:00    2.0  2010.0    3.0  1.0  ...  1014.6    0.0  2.950  188.1\n",
              "2010-03-01 00:15:00    3.0  2010.0    3.0  1.0  ...  1014.6    0.0  2.754  192.0\n",
              "2010-03-01 00:20:00    4.0  2010.0    3.0  1.0  ...  1014.6    0.0  3.986  203.1\n",
              "2010-03-01 00:25:00    5.0  2010.0    3.0  1.0  ...  1014.6    0.0  2.765  198.9\n",
              "2010-03-01 00:30:00    6.0  2010.0    3.0  1.0  ...  1014.6    0.0  2.878  193.4\n",
              "2010-03-01 00:35:00    7.0  2010.0    3.0  1.0  ...  1014.4    0.0  2.802  194.8\n",
              "2010-03-01 00:40:00    8.0  2010.0    3.0  1.0  ...  1014.4    0.0  2.740  193.4\n",
              "2010-03-01 00:45:00    9.0  2010.0    3.0  1.0  ...  1014.3    0.0  2.514  192.2\n",
              "\n",
              "[10 rows x 12 columns]"
            ]
          },
          "metadata": {
            "tags": []
          },
          "execution_count": 14
        }
      ]
    },
    {
      "cell_type": "code",
      "metadata": {
        "id": "bbs2KdLDyl6K",
        "colab_type": "code",
        "outputId": "da666a99-a070-47ae-d0ae-406b790f3dd8",
        "colab": {
          "base_uri": "https://localhost:8080/",
          "height": 514
        }
      },
      "source": [
        "df3=df2.loc['2010-03-01 00:15:00':'2010-03-01 00:30:00'].copy()\n",
        "df4=pd.concat([df3,df2],axis=0)\n",
        "df4.head(15)\n"
      ],
      "execution_count": 0,
      "outputs": [
        {
          "output_type": "execute_result",
          "data": {
            "text/html": [
              "<div>\n",
              "<style scoped>\n",
              "    .dataframe tbody tr th:only-of-type {\n",
              "        vertical-align: middle;\n",
              "    }\n",
              "\n",
              "    .dataframe tbody tr th {\n",
              "        vertical-align: top;\n",
              "    }\n",
              "\n",
              "    .dataframe thead th {\n",
              "        text-align: right;\n",
              "    }\n",
              "</style>\n",
              "<table border=\"1\" class=\"dataframe\">\n",
              "  <thead>\n",
              "    <tr style=\"text-align: right;\">\n",
              "      <th></th>\n",
              "      <th>index</th>\n",
              "      <th>year</th>\n",
              "      <th>month</th>\n",
              "      <th>day</th>\n",
              "      <th>hour</th>\n",
              "      <th>minute</th>\n",
              "      <th>tp</th>\n",
              "      <th>rh</th>\n",
              "      <th>pre</th>\n",
              "      <th>chuva</th>\n",
              "      <th>vel</th>\n",
              "      <th>dir</th>\n",
              "    </tr>\n",
              "  </thead>\n",
              "  <tbody>\n",
              "    <tr>\n",
              "      <th>2010-03-01 00:15:00</th>\n",
              "      <td>3.0</td>\n",
              "      <td>2010.0</td>\n",
              "      <td>3.0</td>\n",
              "      <td>1.0</td>\n",
              "      <td>0.0</td>\n",
              "      <td>15.0</td>\n",
              "      <td>21.12</td>\n",
              "      <td>73.0</td>\n",
              "      <td>1014.6</td>\n",
              "      <td>0.0</td>\n",
              "      <td>2.754</td>\n",
              "      <td>192.0</td>\n",
              "    </tr>\n",
              "    <tr>\n",
              "      <th>2010-03-01 00:20:00</th>\n",
              "      <td>4.0</td>\n",
              "      <td>2010.0</td>\n",
              "      <td>3.0</td>\n",
              "      <td>1.0</td>\n",
              "      <td>0.0</td>\n",
              "      <td>20.0</td>\n",
              "      <td>21.05</td>\n",
              "      <td>73.4</td>\n",
              "      <td>1014.6</td>\n",
              "      <td>0.0</td>\n",
              "      <td>3.986</td>\n",
              "      <td>203.1</td>\n",
              "    </tr>\n",
              "    <tr>\n",
              "      <th>2010-03-01 00:25:00</th>\n",
              "      <td>5.0</td>\n",
              "      <td>2010.0</td>\n",
              "      <td>3.0</td>\n",
              "      <td>1.0</td>\n",
              "      <td>0.0</td>\n",
              "      <td>25.0</td>\n",
              "      <td>21.09</td>\n",
              "      <td>72.8</td>\n",
              "      <td>1014.6</td>\n",
              "      <td>0.0</td>\n",
              "      <td>2.765</td>\n",
              "      <td>198.9</td>\n",
              "    </tr>\n",
              "    <tr>\n",
              "      <th>2010-03-01 00:30:00</th>\n",
              "      <td>6.0</td>\n",
              "      <td>2010.0</td>\n",
              "      <td>3.0</td>\n",
              "      <td>1.0</td>\n",
              "      <td>0.0</td>\n",
              "      <td>30.0</td>\n",
              "      <td>21.09</td>\n",
              "      <td>73.6</td>\n",
              "      <td>1014.6</td>\n",
              "      <td>0.0</td>\n",
              "      <td>2.878</td>\n",
              "      <td>193.4</td>\n",
              "    </tr>\n",
              "    <tr>\n",
              "      <th>2010-03-01 00:00:00</th>\n",
              "      <td>0.0</td>\n",
              "      <td>2010.0</td>\n",
              "      <td>3.0</td>\n",
              "      <td>1.0</td>\n",
              "      <td>0.0</td>\n",
              "      <td>0.0</td>\n",
              "      <td>21.19</td>\n",
              "      <td>72.1</td>\n",
              "      <td>1014.7</td>\n",
              "      <td>0.0</td>\n",
              "      <td>2.422</td>\n",
              "      <td>181.5</td>\n",
              "    </tr>\n",
              "    <tr>\n",
              "      <th>2010-03-01 00:05:00</th>\n",
              "      <td>1.0</td>\n",
              "      <td>2010.0</td>\n",
              "      <td>3.0</td>\n",
              "      <td>1.0</td>\n",
              "      <td>0.0</td>\n",
              "      <td>5.0</td>\n",
              "      <td>21.12</td>\n",
              "      <td>72.5</td>\n",
              "      <td>1014.7</td>\n",
              "      <td>0.0</td>\n",
              "      <td>3.397</td>\n",
              "      <td>193.8</td>\n",
              "    </tr>\n",
              "    <tr>\n",
              "      <th>2010-03-01 00:10:00</th>\n",
              "      <td>2.0</td>\n",
              "      <td>2010.0</td>\n",
              "      <td>3.0</td>\n",
              "      <td>1.0</td>\n",
              "      <td>0.0</td>\n",
              "      <td>10.0</td>\n",
              "      <td>21.12</td>\n",
              "      <td>73.2</td>\n",
              "      <td>1014.6</td>\n",
              "      <td>0.0</td>\n",
              "      <td>2.950</td>\n",
              "      <td>188.1</td>\n",
              "    </tr>\n",
              "    <tr>\n",
              "      <th>2010-03-01 00:15:00</th>\n",
              "      <td>3.0</td>\n",
              "      <td>2010.0</td>\n",
              "      <td>3.0</td>\n",
              "      <td>1.0</td>\n",
              "      <td>0.0</td>\n",
              "      <td>15.0</td>\n",
              "      <td>21.12</td>\n",
              "      <td>73.0</td>\n",
              "      <td>1014.6</td>\n",
              "      <td>0.0</td>\n",
              "      <td>2.754</td>\n",
              "      <td>192.0</td>\n",
              "    </tr>\n",
              "    <tr>\n",
              "      <th>2010-03-01 00:20:00</th>\n",
              "      <td>4.0</td>\n",
              "      <td>2010.0</td>\n",
              "      <td>3.0</td>\n",
              "      <td>1.0</td>\n",
              "      <td>0.0</td>\n",
              "      <td>20.0</td>\n",
              "      <td>21.05</td>\n",
              "      <td>73.4</td>\n",
              "      <td>1014.6</td>\n",
              "      <td>0.0</td>\n",
              "      <td>3.986</td>\n",
              "      <td>203.1</td>\n",
              "    </tr>\n",
              "    <tr>\n",
              "      <th>2010-03-01 00:25:00</th>\n",
              "      <td>5.0</td>\n",
              "      <td>2010.0</td>\n",
              "      <td>3.0</td>\n",
              "      <td>1.0</td>\n",
              "      <td>0.0</td>\n",
              "      <td>25.0</td>\n",
              "      <td>21.09</td>\n",
              "      <td>72.8</td>\n",
              "      <td>1014.6</td>\n",
              "      <td>0.0</td>\n",
              "      <td>2.765</td>\n",
              "      <td>198.9</td>\n",
              "    </tr>\n",
              "    <tr>\n",
              "      <th>2010-03-01 00:30:00</th>\n",
              "      <td>6.0</td>\n",
              "      <td>2010.0</td>\n",
              "      <td>3.0</td>\n",
              "      <td>1.0</td>\n",
              "      <td>0.0</td>\n",
              "      <td>30.0</td>\n",
              "      <td>21.09</td>\n",
              "      <td>73.6</td>\n",
              "      <td>1014.6</td>\n",
              "      <td>0.0</td>\n",
              "      <td>2.878</td>\n",
              "      <td>193.4</td>\n",
              "    </tr>\n",
              "    <tr>\n",
              "      <th>2010-03-01 00:35:00</th>\n",
              "      <td>7.0</td>\n",
              "      <td>2010.0</td>\n",
              "      <td>3.0</td>\n",
              "      <td>1.0</td>\n",
              "      <td>0.0</td>\n",
              "      <td>35.0</td>\n",
              "      <td>20.95</td>\n",
              "      <td>73.5</td>\n",
              "      <td>1014.4</td>\n",
              "      <td>0.0</td>\n",
              "      <td>2.802</td>\n",
              "      <td>194.8</td>\n",
              "    </tr>\n",
              "    <tr>\n",
              "      <th>2010-03-01 00:40:00</th>\n",
              "      <td>8.0</td>\n",
              "      <td>2010.0</td>\n",
              "      <td>3.0</td>\n",
              "      <td>1.0</td>\n",
              "      <td>0.0</td>\n",
              "      <td>40.0</td>\n",
              "      <td>21.09</td>\n",
              "      <td>73.5</td>\n",
              "      <td>1014.4</td>\n",
              "      <td>0.0</td>\n",
              "      <td>2.740</td>\n",
              "      <td>193.4</td>\n",
              "    </tr>\n",
              "    <tr>\n",
              "      <th>2010-03-01 00:45:00</th>\n",
              "      <td>9.0</td>\n",
              "      <td>2010.0</td>\n",
              "      <td>3.0</td>\n",
              "      <td>1.0</td>\n",
              "      <td>0.0</td>\n",
              "      <td>45.0</td>\n",
              "      <td>20.92</td>\n",
              "      <td>73.3</td>\n",
              "      <td>1014.3</td>\n",
              "      <td>0.0</td>\n",
              "      <td>2.514</td>\n",
              "      <td>192.2</td>\n",
              "    </tr>\n",
              "    <tr>\n",
              "      <th>2010-03-01 00:50:00</th>\n",
              "      <td>10.0</td>\n",
              "      <td>2010.0</td>\n",
              "      <td>3.0</td>\n",
              "      <td>1.0</td>\n",
              "      <td>0.0</td>\n",
              "      <td>50.0</td>\n",
              "      <td>20.99</td>\n",
              "      <td>72.9</td>\n",
              "      <td>1014.3</td>\n",
              "      <td>0.0</td>\n",
              "      <td>3.044</td>\n",
              "      <td>195.5</td>\n",
              "    </tr>\n",
              "  </tbody>\n",
              "</table>\n",
              "</div>"
            ],
            "text/plain": [
              "                     index    year  month  day  ...     pre  chuva    vel    dir\n",
              "2010-03-01 00:15:00    3.0  2010.0    3.0  1.0  ...  1014.6    0.0  2.754  192.0\n",
              "2010-03-01 00:20:00    4.0  2010.0    3.0  1.0  ...  1014.6    0.0  3.986  203.1\n",
              "2010-03-01 00:25:00    5.0  2010.0    3.0  1.0  ...  1014.6    0.0  2.765  198.9\n",
              "2010-03-01 00:30:00    6.0  2010.0    3.0  1.0  ...  1014.6    0.0  2.878  193.4\n",
              "2010-03-01 00:00:00    0.0  2010.0    3.0  1.0  ...  1014.7    0.0  2.422  181.5\n",
              "2010-03-01 00:05:00    1.0  2010.0    3.0  1.0  ...  1014.7    0.0  3.397  193.8\n",
              "2010-03-01 00:10:00    2.0  2010.0    3.0  1.0  ...  1014.6    0.0  2.950  188.1\n",
              "2010-03-01 00:15:00    3.0  2010.0    3.0  1.0  ...  1014.6    0.0  2.754  192.0\n",
              "2010-03-01 00:20:00    4.0  2010.0    3.0  1.0  ...  1014.6    0.0  3.986  203.1\n",
              "2010-03-01 00:25:00    5.0  2010.0    3.0  1.0  ...  1014.6    0.0  2.765  198.9\n",
              "2010-03-01 00:30:00    6.0  2010.0    3.0  1.0  ...  1014.6    0.0  2.878  193.4\n",
              "2010-03-01 00:35:00    7.0  2010.0    3.0  1.0  ...  1014.4    0.0  2.802  194.8\n",
              "2010-03-01 00:40:00    8.0  2010.0    3.0  1.0  ...  1014.4    0.0  2.740  193.4\n",
              "2010-03-01 00:45:00    9.0  2010.0    3.0  1.0  ...  1014.3    0.0  2.514  192.2\n",
              "2010-03-01 00:50:00   10.0  2010.0    3.0  1.0  ...  1014.3    0.0  3.044  195.5\n",
              "\n",
              "[15 rows x 12 columns]"
            ]
          },
          "metadata": {
            "tags": []
          },
          "execution_count": 15
        }
      ]
    },
    {
      "cell_type": "code",
      "metadata": {
        "id": "PGUxm87LIVU5",
        "colab_type": "code",
        "outputId": "3c5d9dc9-dc77-432c-a922-64cedb721113",
        "colab": {
          "base_uri": "https://localhost:8080/",
          "height": 514
        }
      },
      "source": [
        "df4=df4.sort_index()\n",
        "df4.head(15)"
      ],
      "execution_count": 0,
      "outputs": [
        {
          "output_type": "execute_result",
          "data": {
            "text/html": [
              "<div>\n",
              "<style scoped>\n",
              "    .dataframe tbody tr th:only-of-type {\n",
              "        vertical-align: middle;\n",
              "    }\n",
              "\n",
              "    .dataframe tbody tr th {\n",
              "        vertical-align: top;\n",
              "    }\n",
              "\n",
              "    .dataframe thead th {\n",
              "        text-align: right;\n",
              "    }\n",
              "</style>\n",
              "<table border=\"1\" class=\"dataframe\">\n",
              "  <thead>\n",
              "    <tr style=\"text-align: right;\">\n",
              "      <th></th>\n",
              "      <th>index</th>\n",
              "      <th>year</th>\n",
              "      <th>month</th>\n",
              "      <th>day</th>\n",
              "      <th>hour</th>\n",
              "      <th>minute</th>\n",
              "      <th>tp</th>\n",
              "      <th>rh</th>\n",
              "      <th>pre</th>\n",
              "      <th>chuva</th>\n",
              "      <th>vel</th>\n",
              "      <th>dir</th>\n",
              "    </tr>\n",
              "  </thead>\n",
              "  <tbody>\n",
              "    <tr>\n",
              "      <th>2010-03-01 00:00:00</th>\n",
              "      <td>0.0</td>\n",
              "      <td>2010.0</td>\n",
              "      <td>3.0</td>\n",
              "      <td>1.0</td>\n",
              "      <td>0.0</td>\n",
              "      <td>0.0</td>\n",
              "      <td>21.19</td>\n",
              "      <td>72.1</td>\n",
              "      <td>1014.7</td>\n",
              "      <td>0.0</td>\n",
              "      <td>2.422</td>\n",
              "      <td>181.5</td>\n",
              "    </tr>\n",
              "    <tr>\n",
              "      <th>2010-03-01 00:05:00</th>\n",
              "      <td>1.0</td>\n",
              "      <td>2010.0</td>\n",
              "      <td>3.0</td>\n",
              "      <td>1.0</td>\n",
              "      <td>0.0</td>\n",
              "      <td>5.0</td>\n",
              "      <td>21.12</td>\n",
              "      <td>72.5</td>\n",
              "      <td>1014.7</td>\n",
              "      <td>0.0</td>\n",
              "      <td>3.397</td>\n",
              "      <td>193.8</td>\n",
              "    </tr>\n",
              "    <tr>\n",
              "      <th>2010-03-01 00:10:00</th>\n",
              "      <td>2.0</td>\n",
              "      <td>2010.0</td>\n",
              "      <td>3.0</td>\n",
              "      <td>1.0</td>\n",
              "      <td>0.0</td>\n",
              "      <td>10.0</td>\n",
              "      <td>21.12</td>\n",
              "      <td>73.2</td>\n",
              "      <td>1014.6</td>\n",
              "      <td>0.0</td>\n",
              "      <td>2.950</td>\n",
              "      <td>188.1</td>\n",
              "    </tr>\n",
              "    <tr>\n",
              "      <th>2010-03-01 00:15:00</th>\n",
              "      <td>3.0</td>\n",
              "      <td>2010.0</td>\n",
              "      <td>3.0</td>\n",
              "      <td>1.0</td>\n",
              "      <td>0.0</td>\n",
              "      <td>15.0</td>\n",
              "      <td>21.12</td>\n",
              "      <td>73.0</td>\n",
              "      <td>1014.6</td>\n",
              "      <td>0.0</td>\n",
              "      <td>2.754</td>\n",
              "      <td>192.0</td>\n",
              "    </tr>\n",
              "    <tr>\n",
              "      <th>2010-03-01 00:15:00</th>\n",
              "      <td>3.0</td>\n",
              "      <td>2010.0</td>\n",
              "      <td>3.0</td>\n",
              "      <td>1.0</td>\n",
              "      <td>0.0</td>\n",
              "      <td>15.0</td>\n",
              "      <td>21.12</td>\n",
              "      <td>73.0</td>\n",
              "      <td>1014.6</td>\n",
              "      <td>0.0</td>\n",
              "      <td>2.754</td>\n",
              "      <td>192.0</td>\n",
              "    </tr>\n",
              "    <tr>\n",
              "      <th>2010-03-01 00:20:00</th>\n",
              "      <td>4.0</td>\n",
              "      <td>2010.0</td>\n",
              "      <td>3.0</td>\n",
              "      <td>1.0</td>\n",
              "      <td>0.0</td>\n",
              "      <td>20.0</td>\n",
              "      <td>21.05</td>\n",
              "      <td>73.4</td>\n",
              "      <td>1014.6</td>\n",
              "      <td>0.0</td>\n",
              "      <td>3.986</td>\n",
              "      <td>203.1</td>\n",
              "    </tr>\n",
              "    <tr>\n",
              "      <th>2010-03-01 00:20:00</th>\n",
              "      <td>4.0</td>\n",
              "      <td>2010.0</td>\n",
              "      <td>3.0</td>\n",
              "      <td>1.0</td>\n",
              "      <td>0.0</td>\n",
              "      <td>20.0</td>\n",
              "      <td>21.05</td>\n",
              "      <td>73.4</td>\n",
              "      <td>1014.6</td>\n",
              "      <td>0.0</td>\n",
              "      <td>3.986</td>\n",
              "      <td>203.1</td>\n",
              "    </tr>\n",
              "    <tr>\n",
              "      <th>2010-03-01 00:25:00</th>\n",
              "      <td>5.0</td>\n",
              "      <td>2010.0</td>\n",
              "      <td>3.0</td>\n",
              "      <td>1.0</td>\n",
              "      <td>0.0</td>\n",
              "      <td>25.0</td>\n",
              "      <td>21.09</td>\n",
              "      <td>72.8</td>\n",
              "      <td>1014.6</td>\n",
              "      <td>0.0</td>\n",
              "      <td>2.765</td>\n",
              "      <td>198.9</td>\n",
              "    </tr>\n",
              "    <tr>\n",
              "      <th>2010-03-01 00:25:00</th>\n",
              "      <td>5.0</td>\n",
              "      <td>2010.0</td>\n",
              "      <td>3.0</td>\n",
              "      <td>1.0</td>\n",
              "      <td>0.0</td>\n",
              "      <td>25.0</td>\n",
              "      <td>21.09</td>\n",
              "      <td>72.8</td>\n",
              "      <td>1014.6</td>\n",
              "      <td>0.0</td>\n",
              "      <td>2.765</td>\n",
              "      <td>198.9</td>\n",
              "    </tr>\n",
              "    <tr>\n",
              "      <th>2010-03-01 00:30:00</th>\n",
              "      <td>6.0</td>\n",
              "      <td>2010.0</td>\n",
              "      <td>3.0</td>\n",
              "      <td>1.0</td>\n",
              "      <td>0.0</td>\n",
              "      <td>30.0</td>\n",
              "      <td>21.09</td>\n",
              "      <td>73.6</td>\n",
              "      <td>1014.6</td>\n",
              "      <td>0.0</td>\n",
              "      <td>2.878</td>\n",
              "      <td>193.4</td>\n",
              "    </tr>\n",
              "    <tr>\n",
              "      <th>2010-03-01 00:30:00</th>\n",
              "      <td>6.0</td>\n",
              "      <td>2010.0</td>\n",
              "      <td>3.0</td>\n",
              "      <td>1.0</td>\n",
              "      <td>0.0</td>\n",
              "      <td>30.0</td>\n",
              "      <td>21.09</td>\n",
              "      <td>73.6</td>\n",
              "      <td>1014.6</td>\n",
              "      <td>0.0</td>\n",
              "      <td>2.878</td>\n",
              "      <td>193.4</td>\n",
              "    </tr>\n",
              "    <tr>\n",
              "      <th>2010-03-01 00:35:00</th>\n",
              "      <td>7.0</td>\n",
              "      <td>2010.0</td>\n",
              "      <td>3.0</td>\n",
              "      <td>1.0</td>\n",
              "      <td>0.0</td>\n",
              "      <td>35.0</td>\n",
              "      <td>20.95</td>\n",
              "      <td>73.5</td>\n",
              "      <td>1014.4</td>\n",
              "      <td>0.0</td>\n",
              "      <td>2.802</td>\n",
              "      <td>194.8</td>\n",
              "    </tr>\n",
              "    <tr>\n",
              "      <th>2010-03-01 00:40:00</th>\n",
              "      <td>8.0</td>\n",
              "      <td>2010.0</td>\n",
              "      <td>3.0</td>\n",
              "      <td>1.0</td>\n",
              "      <td>0.0</td>\n",
              "      <td>40.0</td>\n",
              "      <td>21.09</td>\n",
              "      <td>73.5</td>\n",
              "      <td>1014.4</td>\n",
              "      <td>0.0</td>\n",
              "      <td>2.740</td>\n",
              "      <td>193.4</td>\n",
              "    </tr>\n",
              "    <tr>\n",
              "      <th>2010-03-01 00:45:00</th>\n",
              "      <td>9.0</td>\n",
              "      <td>2010.0</td>\n",
              "      <td>3.0</td>\n",
              "      <td>1.0</td>\n",
              "      <td>0.0</td>\n",
              "      <td>45.0</td>\n",
              "      <td>20.92</td>\n",
              "      <td>73.3</td>\n",
              "      <td>1014.3</td>\n",
              "      <td>0.0</td>\n",
              "      <td>2.514</td>\n",
              "      <td>192.2</td>\n",
              "    </tr>\n",
              "    <tr>\n",
              "      <th>2010-03-01 00:50:00</th>\n",
              "      <td>10.0</td>\n",
              "      <td>2010.0</td>\n",
              "      <td>3.0</td>\n",
              "      <td>1.0</td>\n",
              "      <td>0.0</td>\n",
              "      <td>50.0</td>\n",
              "      <td>20.99</td>\n",
              "      <td>72.9</td>\n",
              "      <td>1014.3</td>\n",
              "      <td>0.0</td>\n",
              "      <td>3.044</td>\n",
              "      <td>195.5</td>\n",
              "    </tr>\n",
              "  </tbody>\n",
              "</table>\n",
              "</div>"
            ],
            "text/plain": [
              "                     index    year  month  day  ...     pre  chuva    vel    dir\n",
              "2010-03-01 00:00:00    0.0  2010.0    3.0  1.0  ...  1014.7    0.0  2.422  181.5\n",
              "2010-03-01 00:05:00    1.0  2010.0    3.0  1.0  ...  1014.7    0.0  3.397  193.8\n",
              "2010-03-01 00:10:00    2.0  2010.0    3.0  1.0  ...  1014.6    0.0  2.950  188.1\n",
              "2010-03-01 00:15:00    3.0  2010.0    3.0  1.0  ...  1014.6    0.0  2.754  192.0\n",
              "2010-03-01 00:15:00    3.0  2010.0    3.0  1.0  ...  1014.6    0.0  2.754  192.0\n",
              "2010-03-01 00:20:00    4.0  2010.0    3.0  1.0  ...  1014.6    0.0  3.986  203.1\n",
              "2010-03-01 00:20:00    4.0  2010.0    3.0  1.0  ...  1014.6    0.0  3.986  203.1\n",
              "2010-03-01 00:25:00    5.0  2010.0    3.0  1.0  ...  1014.6    0.0  2.765  198.9\n",
              "2010-03-01 00:25:00    5.0  2010.0    3.0  1.0  ...  1014.6    0.0  2.765  198.9\n",
              "2010-03-01 00:30:00    6.0  2010.0    3.0  1.0  ...  1014.6    0.0  2.878  193.4\n",
              "2010-03-01 00:30:00    6.0  2010.0    3.0  1.0  ...  1014.6    0.0  2.878  193.4\n",
              "2010-03-01 00:35:00    7.0  2010.0    3.0  1.0  ...  1014.4    0.0  2.802  194.8\n",
              "2010-03-01 00:40:00    8.0  2010.0    3.0  1.0  ...  1014.4    0.0  2.740  193.4\n",
              "2010-03-01 00:45:00    9.0  2010.0    3.0  1.0  ...  1014.3    0.0  2.514  192.2\n",
              "2010-03-01 00:50:00   10.0  2010.0    3.0  1.0  ...  1014.3    0.0  3.044  195.5\n",
              "\n",
              "[15 rows x 12 columns]"
            ]
          },
          "metadata": {
            "tags": []
          },
          "execution_count": 16
        }
      ]
    },
    {
      "cell_type": "code",
      "metadata": {
        "id": "a9YC2gX6MVF_",
        "colab_type": "code",
        "outputId": "2c8e70cb-016a-47e8-b085-03f6d5c16511",
        "colab": {
          "base_uri": "https://localhost:8080/",
          "height": 282
        }
      },
      "source": [
        "plt.plot(np.arange(0,15,1),df4.loc['2010-03-01 00:00:00':'2010-03-01 00:50:00','index'])"
      ],
      "execution_count": 0,
      "outputs": [
        {
          "output_type": "execute_result",
          "data": {
            "text/plain": [
              "[<matplotlib.lines.Line2D at 0x7f1eb9822160>]"
            ]
          },
          "metadata": {
            "tags": []
          },
          "execution_count": 17
        },
        {
          "output_type": "display_data",
          "data": {
            "image/png": "[encoded data removed]",
            "text/plain": [
              "<Figure size 432x288 with 1 Axes>"
            ]
          },
          "metadata": {
            "tags": [],
            "needs_background": "light"
          }
        }
      ]
    },
    {
      "cell_type": "code",
      "metadata": {
        "id": "hEwhdZpVLklB",
        "colab_type": "code",
        "outputId": "b1eaf4fb-2017-48c1-e79a-affd808332c2",
        "colab": {
          "base_uri": "https://localhost:8080/",
          "height": 34
        }
      },
      "source": [
        "len(df4.loc['2010-03-01 00:00:00':'2010-03-01 00:50:00','index']) # saber o comprimento do dataframe"
      ],
      "execution_count": 0,
      "outputs": [
        {
          "output_type": "execute_result",
          "data": {
            "text/plain": [
              "15"
            ]
          },
          "metadata": {
            "tags": []
          },
          "execution_count": 18
        }
      ]
    },
    {
      "cell_type": "code",
      "metadata": {
        "id": "2G8Xtl6kK7Z5",
        "colab_type": "code",
        "outputId": "99d5fd7c-bc2f-42b4-9204-1a6aa7fbd664",
        "colab": {
          "base_uri": "https://localhost:8080/",
          "height": 514
        }
      },
      "source": [
        "df4.loc['2010-03-01 00:00:00':'2010-03-01 00:50:00','index']=np.arange(0,15,1)\n",
        "df4.head(15)"
      ],
      "execution_count": 0,
      "outputs": [
        {
          "output_type": "execute_result",
          "data": {
            "text/html": [
              "<div>\n",
              "<style scoped>\n",
              "    .dataframe tbody tr th:only-of-type {\n",
              "        vertical-align: middle;\n",
              "    }\n",
              "\n",
              "    .dataframe tbody tr th {\n",
              "        vertical-align: top;\n",
              "    }\n",
              "\n",
              "    .dataframe thead th {\n",
              "        text-align: right;\n",
              "    }\n",
              "</style>\n",
              "<table border=\"1\" class=\"dataframe\">\n",
              "  <thead>\n",
              "    <tr style=\"text-align: right;\">\n",
              "      <th></th>\n",
              "      <th>index</th>\n",
              "      <th>year</th>\n",
              "      <th>month</th>\n",
              "      <th>day</th>\n",
              "      <th>hour</th>\n",
              "      <th>minute</th>\n",
              "      <th>tp</th>\n",
              "      <th>rh</th>\n",
              "      <th>pre</th>\n",
              "      <th>chuva</th>\n",
              "      <th>vel</th>\n",
              "      <th>dir</th>\n",
              "    </tr>\n",
              "  </thead>\n",
              "  <tbody>\n",
              "    <tr>\n",
              "      <th>2010-03-01 00:00:00</th>\n",
              "      <td>0.0</td>\n",
              "      <td>2010.0</td>\n",
              "      <td>3.0</td>\n",
              "      <td>1.0</td>\n",
              "      <td>0.0</td>\n",
              "      <td>0.0</td>\n",
              "      <td>21.19</td>\n",
              "      <td>72.1</td>\n",
              "      <td>1014.7</td>\n",
              "      <td>0.0</td>\n",
              "      <td>2.422</td>\n",
              "      <td>181.5</td>\n",
              "    </tr>\n",
              "    <tr>\n",
              "      <th>2010-03-01 00:05:00</th>\n",
              "      <td>1.0</td>\n",
              "      <td>2010.0</td>\n",
              "      <td>3.0</td>\n",
              "      <td>1.0</td>\n",
              "      <td>0.0</td>\n",
              "      <td>5.0</td>\n",
              "      <td>21.12</td>\n",
              "      <td>72.5</td>\n",
              "      <td>1014.7</td>\n",
              "      <td>0.0</td>\n",
              "      <td>3.397</td>\n",
              "      <td>193.8</td>\n",
              "    </tr>\n",
              "    <tr>\n",
              "      <th>2010-03-01 00:10:00</th>\n",
              "      <td>2.0</td>\n",
              "      <td>2010.0</td>\n",
              "      <td>3.0</td>\n",
              "      <td>1.0</td>\n",
              "      <td>0.0</td>\n",
              "      <td>10.0</td>\n",
              "      <td>21.12</td>\n",
              "      <td>73.2</td>\n",
              "      <td>1014.6</td>\n",
              "      <td>0.0</td>\n",
              "      <td>2.950</td>\n",
              "      <td>188.1</td>\n",
              "    </tr>\n",
              "    <tr>\n",
              "      <th>2010-03-01 00:15:00</th>\n",
              "      <td>3.0</td>\n",
              "      <td>2010.0</td>\n",
              "      <td>3.0</td>\n",
              "      <td>1.0</td>\n",
              "      <td>0.0</td>\n",
              "      <td>15.0</td>\n",
              "      <td>21.12</td>\n",
              "      <td>73.0</td>\n",
              "      <td>1014.6</td>\n",
              "      <td>0.0</td>\n",
              "      <td>2.754</td>\n",
              "      <td>192.0</td>\n",
              "    </tr>\n",
              "    <tr>\n",
              "      <th>2010-03-01 00:15:00</th>\n",
              "      <td>4.0</td>\n",
              "      <td>2010.0</td>\n",
              "      <td>3.0</td>\n",
              "      <td>1.0</td>\n",
              "      <td>0.0</td>\n",
              "      <td>15.0</td>\n",
              "      <td>21.12</td>\n",
              "      <td>73.0</td>\n",
              "      <td>1014.6</td>\n",
              "      <td>0.0</td>\n",
              "      <td>2.754</td>\n",
              "      <td>192.0</td>\n",
              "    </tr>\n",
              "    <tr>\n",
              "      <th>2010-03-01 00:20:00</th>\n",
              "      <td>5.0</td>\n",
              "      <td>2010.0</td>\n",
              "      <td>3.0</td>\n",
              "      <td>1.0</td>\n",
              "      <td>0.0</td>\n",
              "      <td>20.0</td>\n",
              "      <td>21.05</td>\n",
              "      <td>73.4</td>\n",
              "      <td>1014.6</td>\n",
              "      <td>0.0</td>\n",
              "      <td>3.986</td>\n",
              "      <td>203.1</td>\n",
              "    </tr>\n",
              "    <tr>\n",
              "      <th>2010-03-01 00:20:00</th>\n",
              "      <td>6.0</td>\n",
              "      <td>2010.0</td>\n",
              "      <td>3.0</td>\n",
              "      <td>1.0</td>\n",
              "      <td>0.0</td>\n",
              "      <td>20.0</td>\n",
              "      <td>21.05</td>\n",
              "      <td>73.4</td>\n",
              "      <td>1014.6</td>\n",
              "      <td>0.0</td>\n",
              "      <td>3.986</td>\n",
              "      <td>203.1</td>\n",
              "    </tr>\n",
              "    <tr>\n",
              "      <th>2010-03-01 00:25:00</th>\n",
              "      <td>7.0</td>\n",
              "      <td>2010.0</td>\n",
              "      <td>3.0</td>\n",
              "      <td>1.0</td>\n",
              "      <td>0.0</td>\n",
              "      <td>25.0</td>\n",
              "      <td>21.09</td>\n",
              "      <td>72.8</td>\n",
              "      <td>1014.6</td>\n",
              "      <td>0.0</td>\n",
              "      <td>2.765</td>\n",
              "      <td>198.9</td>\n",
              "    </tr>\n",
              "    <tr>\n",
              "      <th>2010-03-01 00:25:00</th>\n",
              "      <td>8.0</td>\n",
              "      <td>2010.0</td>\n",
              "      <td>3.0</td>\n",
              "      <td>1.0</td>\n",
              "      <td>0.0</td>\n",
              "      <td>25.0</td>\n",
              "      <td>21.09</td>\n",
              "      <td>72.8</td>\n",
              "      <td>1014.6</td>\n",
              "      <td>0.0</td>\n",
              "      <td>2.765</td>\n",
              "      <td>198.9</td>\n",
              "    </tr>\n",
              "    <tr>\n",
              "      <th>2010-03-01 00:30:00</th>\n",
              "      <td>9.0</td>\n",
              "      <td>2010.0</td>\n",
              "      <td>3.0</td>\n",
              "      <td>1.0</td>\n",
              "      <td>0.0</td>\n",
              "      <td>30.0</td>\n",
              "      <td>21.09</td>\n",
              "      <td>73.6</td>\n",
              "      <td>1014.6</td>\n",
              "      <td>0.0</td>\n",
              "      <td>2.878</td>\n",
              "      <td>193.4</td>\n",
              "    </tr>\n",
              "    <tr>\n",
              "      <th>2010-03-01 00:30:00</th>\n",
              "      <td>10.0</td>\n",
              "      <td>2010.0</td>\n",
              "      <td>3.0</td>\n",
              "      <td>1.0</td>\n",
              "      <td>0.0</td>\n",
              "      <td>30.0</td>\n",
              "      <td>21.09</td>\n",
              "      <td>73.6</td>\n",
              "      <td>1014.6</td>\n",
              "      <td>0.0</td>\n",
              "      <td>2.878</td>\n",
              "      <td>193.4</td>\n",
              "    </tr>\n",
              "    <tr>\n",
              "      <th>2010-03-01 00:35:00</th>\n",
              "      <td>11.0</td>\n",
              "      <td>2010.0</td>\n",
              "      <td>3.0</td>\n",
              "      <td>1.0</td>\n",
              "      <td>0.0</td>\n",
              "      <td>35.0</td>\n",
              "      <td>20.95</td>\n",
              "      <td>73.5</td>\n",
              "      <td>1014.4</td>\n",
              "      <td>0.0</td>\n",
              "      <td>2.802</td>\n",
              "      <td>194.8</td>\n",
              "    </tr>\n",
              "    <tr>\n",
              "      <th>2010-03-01 00:40:00</th>\n",
              "      <td>12.0</td>\n",
              "      <td>2010.0</td>\n",
              "      <td>3.0</td>\n",
              "      <td>1.0</td>\n",
              "      <td>0.0</td>\n",
              "      <td>40.0</td>\n",
              "      <td>21.09</td>\n",
              "      <td>73.5</td>\n",
              "      <td>1014.4</td>\n",
              "      <td>0.0</td>\n",
              "      <td>2.740</td>\n",
              "      <td>193.4</td>\n",
              "    </tr>\n",
              "    <tr>\n",
              "      <th>2010-03-01 00:45:00</th>\n",
              "      <td>13.0</td>\n",
              "      <td>2010.0</td>\n",
              "      <td>3.0</td>\n",
              "      <td>1.0</td>\n",
              "      <td>0.0</td>\n",
              "      <td>45.0</td>\n",
              "      <td>20.92</td>\n",
              "      <td>73.3</td>\n",
              "      <td>1014.3</td>\n",
              "      <td>0.0</td>\n",
              "      <td>2.514</td>\n",
              "      <td>192.2</td>\n",
              "    </tr>\n",
              "    <tr>\n",
              "      <th>2010-03-01 00:50:00</th>\n",
              "      <td>14.0</td>\n",
              "      <td>2010.0</td>\n",
              "      <td>3.0</td>\n",
              "      <td>1.0</td>\n",
              "      <td>0.0</td>\n",
              "      <td>50.0</td>\n",
              "      <td>20.99</td>\n",
              "      <td>72.9</td>\n",
              "      <td>1014.3</td>\n",
              "      <td>0.0</td>\n",
              "      <td>3.044</td>\n",
              "      <td>195.5</td>\n",
              "    </tr>\n",
              "  </tbody>\n",
              "</table>\n",
              "</div>"
            ],
            "text/plain": [
              "                     index    year  month  day  ...     pre  chuva    vel    dir\n",
              "2010-03-01 00:00:00    0.0  2010.0    3.0  1.0  ...  1014.7    0.0  2.422  181.5\n",
              "2010-03-01 00:05:00    1.0  2010.0    3.0  1.0  ...  1014.7    0.0  3.397  193.8\n",
              "2010-03-01 00:10:00    2.0  2010.0    3.0  1.0  ...  1014.6    0.0  2.950  188.1\n",
              "2010-03-01 00:15:00    3.0  2010.0    3.0  1.0  ...  1014.6    0.0  2.754  192.0\n",
              "2010-03-01 00:15:00    4.0  2010.0    3.0  1.0  ...  1014.6    0.0  2.754  192.0\n",
              "2010-03-01 00:20:00    5.0  2010.0    3.0  1.0  ...  1014.6    0.0  3.986  203.1\n",
              "2010-03-01 00:20:00    6.0  2010.0    3.0  1.0  ...  1014.6    0.0  3.986  203.1\n",
              "2010-03-01 00:25:00    7.0  2010.0    3.0  1.0  ...  1014.6    0.0  2.765  198.9\n",
              "2010-03-01 00:25:00    8.0  2010.0    3.0  1.0  ...  1014.6    0.0  2.765  198.9\n",
              "2010-03-01 00:30:00    9.0  2010.0    3.0  1.0  ...  1014.6    0.0  2.878  193.4\n",
              "2010-03-01 00:30:00   10.0  2010.0    3.0  1.0  ...  1014.6    0.0  2.878  193.4\n",
              "2010-03-01 00:35:00   11.0  2010.0    3.0  1.0  ...  1014.4    0.0  2.802  194.8\n",
              "2010-03-01 00:40:00   12.0  2010.0    3.0  1.0  ...  1014.4    0.0  2.740  193.4\n",
              "2010-03-01 00:45:00   13.0  2010.0    3.0  1.0  ...  1014.3    0.0  2.514  192.2\n",
              "2010-03-01 00:50:00   14.0  2010.0    3.0  1.0  ...  1014.3    0.0  3.044  195.5\n",
              "\n",
              "[15 rows x 12 columns]"
            ]
          },
          "metadata": {
            "tags": []
          },
          "execution_count": 19
        }
      ]
    },
    {
      "cell_type": "code",
      "metadata": {
        "id": "gNEnZb5i2ALk",
        "colab_type": "code",
        "outputId": "2a58cbcf-0c3e-4417-e8cf-fb8de2e6214f",
        "colab": {
          "base_uri": "https://localhost:8080/",
          "height": 514
        }
      },
      "source": [
        "df4.index.duplicated() # verificar se há indices duplicados\n",
        "df4.loc[~df4.index.duplicated(keep='first')].head(15) # mantenha o primeiro"
      ],
      "execution_count": 0,
      "outputs": [
        {
          "output_type": "execute_result",
          "data": {
            "text/html": [
              "<div>\n",
              "<style scoped>\n",
              "    .dataframe tbody tr th:only-of-type {\n",
              "        vertical-align: middle;\n",
              "    }\n",
              "\n",
              "    .dataframe tbody tr th {\n",
              "        vertical-align: top;\n",
              "    }\n",
              "\n",
              "    .dataframe thead th {\n",
              "        text-align: right;\n",
              "    }\n",
              "</style>\n",
              "<table border=\"1\" class=\"dataframe\">\n",
              "  <thead>\n",
              "    <tr style=\"text-align: right;\">\n",
              "      <th></th>\n",
              "      <th>index</th>\n",
              "      <th>year</th>\n",
              "      <th>month</th>\n",
              "      <th>day</th>\n",
              "      <th>hour</th>\n",
              "      <th>minute</th>\n",
              "      <th>tp</th>\n",
              "      <th>rh</th>\n",
              "      <th>pre</th>\n",
              "      <th>chuva</th>\n",
              "      <th>vel</th>\n",
              "      <th>dir</th>\n",
              "    </tr>\n",
              "  </thead>\n",
              "  <tbody>\n",
              "    <tr>\n",
              "      <th>2010-03-01 00:00:00</th>\n",
              "      <td>0.0</td>\n",
              "      <td>2010.0</td>\n",
              "      <td>3.0</td>\n",
              "      <td>1.0</td>\n",
              "      <td>0.0</td>\n",
              "      <td>0.0</td>\n",
              "      <td>21.19</td>\n",
              "      <td>72.1</td>\n",
              "      <td>1014.7</td>\n",
              "      <td>0.0</td>\n",
              "      <td>2.422</td>\n",
              "      <td>181.5</td>\n",
              "    </tr>\n",
              "    <tr>\n",
              "      <th>2010-03-01 00:05:00</th>\n",
              "      <td>1.0</td>\n",
              "      <td>2010.0</td>\n",
              "      <td>3.0</td>\n",
              "      <td>1.0</td>\n",
              "      <td>0.0</td>\n",
              "      <td>5.0</td>\n",
              "      <td>21.12</td>\n",
              "      <td>72.5</td>\n",
              "      <td>1014.7</td>\n",
              "      <td>0.0</td>\n",
              "      <td>3.397</td>\n",
              "      <td>193.8</td>\n",
              "    </tr>\n",
              "    <tr>\n",
              "      <th>2010-03-01 00:10:00</th>\n",
              "      <td>2.0</td>\n",
              "      <td>2010.0</td>\n",
              "      <td>3.0</td>\n",
              "      <td>1.0</td>\n",
              "      <td>0.0</td>\n",
              "      <td>10.0</td>\n",
              "      <td>21.12</td>\n",
              "      <td>73.2</td>\n",
              "      <td>1014.6</td>\n",
              "      <td>0.0</td>\n",
              "      <td>2.950</td>\n",
              "      <td>188.1</td>\n",
              "    </tr>\n",
              "    <tr>\n",
              "      <th>2010-03-01 00:15:00</th>\n",
              "      <td>3.0</td>\n",
              "      <td>2010.0</td>\n",
              "      <td>3.0</td>\n",
              "      <td>1.0</td>\n",
              "      <td>0.0</td>\n",
              "      <td>15.0</td>\n",
              "      <td>21.12</td>\n",
              "      <td>73.0</td>\n",
              "      <td>1014.6</td>\n",
              "      <td>0.0</td>\n",
              "      <td>2.754</td>\n",
              "      <td>192.0</td>\n",
              "    </tr>\n",
              "    <tr>\n",
              "      <th>2010-03-01 00:20:00</th>\n",
              "      <td>5.0</td>\n",
              "      <td>2010.0</td>\n",
              "      <td>3.0</td>\n",
              "      <td>1.0</td>\n",
              "      <td>0.0</td>\n",
              "      <td>20.0</td>\n",
              "      <td>21.05</td>\n",
              "      <td>73.4</td>\n",
              "      <td>1014.6</td>\n",
              "      <td>0.0</td>\n",
              "      <td>3.986</td>\n",
              "      <td>203.1</td>\n",
              "    </tr>\n",
              "    <tr>\n",
              "      <th>2010-03-01 00:25:00</th>\n",
              "      <td>7.0</td>\n",
              "      <td>2010.0</td>\n",
              "      <td>3.0</td>\n",
              "      <td>1.0</td>\n",
              "      <td>0.0</td>\n",
              "      <td>25.0</td>\n",
              "      <td>21.09</td>\n",
              "      <td>72.8</td>\n",
              "      <td>1014.6</td>\n",
              "      <td>0.0</td>\n",
              "      <td>2.765</td>\n",
              "      <td>198.9</td>\n",
              "    </tr>\n",
              "    <tr>\n",
              "      <th>2010-03-01 00:30:00</th>\n",
              "      <td>9.0</td>\n",
              "      <td>2010.0</td>\n",
              "      <td>3.0</td>\n",
              "      <td>1.0</td>\n",
              "      <td>0.0</td>\n",
              "      <td>30.0</td>\n",
              "      <td>21.09</td>\n",
              "      <td>73.6</td>\n",
              "      <td>1014.6</td>\n",
              "      <td>0.0</td>\n",
              "      <td>2.878</td>\n",
              "      <td>193.4</td>\n",
              "    </tr>\n",
              "    <tr>\n",
              "      <th>2010-03-01 00:35:00</th>\n",
              "      <td>11.0</td>\n",
              "      <td>2010.0</td>\n",
              "      <td>3.0</td>\n",
              "      <td>1.0</td>\n",
              "      <td>0.0</td>\n",
              "      <td>35.0</td>\n",
              "      <td>20.95</td>\n",
              "      <td>73.5</td>\n",
              "      <td>1014.4</td>\n",
              "      <td>0.0</td>\n",
              "      <td>2.802</td>\n",
              "      <td>194.8</td>\n",
              "    </tr>\n",
              "    <tr>\n",
              "      <th>2010-03-01 00:40:00</th>\n",
              "      <td>12.0</td>\n",
              "      <td>2010.0</td>\n",
              "      <td>3.0</td>\n",
              "      <td>1.0</td>\n",
              "      <td>0.0</td>\n",
              "      <td>40.0</td>\n",
              "      <td>21.09</td>\n",
              "      <td>73.5</td>\n",
              "      <td>1014.4</td>\n",
              "      <td>0.0</td>\n",
              "      <td>2.740</td>\n",
              "      <td>193.4</td>\n",
              "    </tr>\n",
              "    <tr>\n",
              "      <th>2010-03-01 00:45:00</th>\n",
              "      <td>13.0</td>\n",
              "      <td>2010.0</td>\n",
              "      <td>3.0</td>\n",
              "      <td>1.0</td>\n",
              "      <td>0.0</td>\n",
              "      <td>45.0</td>\n",
              "      <td>20.92</td>\n",
              "      <td>73.3</td>\n",
              "      <td>1014.3</td>\n",
              "      <td>0.0</td>\n",
              "      <td>2.514</td>\n",
              "      <td>192.2</td>\n",
              "    </tr>\n",
              "    <tr>\n",
              "      <th>2010-03-01 00:50:00</th>\n",
              "      <td>14.0</td>\n",
              "      <td>2010.0</td>\n",
              "      <td>3.0</td>\n",
              "      <td>1.0</td>\n",
              "      <td>0.0</td>\n",
              "      <td>50.0</td>\n",
              "      <td>20.99</td>\n",
              "      <td>72.9</td>\n",
              "      <td>1014.3</td>\n",
              "      <td>0.0</td>\n",
              "      <td>3.044</td>\n",
              "      <td>195.5</td>\n",
              "    </tr>\n",
              "    <tr>\n",
              "      <th>2010-03-01 00:55:00</th>\n",
              "      <td>11.0</td>\n",
              "      <td>2010.0</td>\n",
              "      <td>3.0</td>\n",
              "      <td>1.0</td>\n",
              "      <td>0.0</td>\n",
              "      <td>55.0</td>\n",
              "      <td>20.92</td>\n",
              "      <td>73.1</td>\n",
              "      <td>1014.2</td>\n",
              "      <td>0.0</td>\n",
              "      <td>3.203</td>\n",
              "      <td>198.4</td>\n",
              "    </tr>\n",
              "    <tr>\n",
              "      <th>2010-03-01 01:00:00</th>\n",
              "      <td>12.0</td>\n",
              "      <td>2010.0</td>\n",
              "      <td>3.0</td>\n",
              "      <td>1.0</td>\n",
              "      <td>1.0</td>\n",
              "      <td>0.0</td>\n",
              "      <td>20.89</td>\n",
              "      <td>73.3</td>\n",
              "      <td>1014.2</td>\n",
              "      <td>0.0</td>\n",
              "      <td>2.355</td>\n",
              "      <td>192.0</td>\n",
              "    </tr>\n",
              "    <tr>\n",
              "      <th>2010-03-01 01:05:00</th>\n",
              "      <td>13.0</td>\n",
              "      <td>2010.0</td>\n",
              "      <td>3.0</td>\n",
              "      <td>1.0</td>\n",
              "      <td>1.0</td>\n",
              "      <td>5.0</td>\n",
              "      <td>20.89</td>\n",
              "      <td>73.5</td>\n",
              "      <td>1014.2</td>\n",
              "      <td>0.0</td>\n",
              "      <td>2.787</td>\n",
              "      <td>202.1</td>\n",
              "    </tr>\n",
              "    <tr>\n",
              "      <th>2010-03-01 01:10:00</th>\n",
              "      <td>14.0</td>\n",
              "      <td>2010.0</td>\n",
              "      <td>3.0</td>\n",
              "      <td>1.0</td>\n",
              "      <td>1.0</td>\n",
              "      <td>10.0</td>\n",
              "      <td>20.95</td>\n",
              "      <td>73.0</td>\n",
              "      <td>1014.1</td>\n",
              "      <td>0.0</td>\n",
              "      <td>2.824</td>\n",
              "      <td>197.1</td>\n",
              "    </tr>\n",
              "  </tbody>\n",
              "</table>\n",
              "</div>"
            ],
            "text/plain": [
              "                     index    year  month  day  ...     pre  chuva    vel    dir\n",
              "2010-03-01 00:00:00    0.0  2010.0    3.0  1.0  ...  1014.7    0.0  2.422  181.5\n",
              "2010-03-01 00:05:00    1.0  2010.0    3.0  1.0  ...  1014.7    0.0  3.397  193.8\n",
              "2010-03-01 00:10:00    2.0  2010.0    3.0  1.0  ...  1014.6    0.0  2.950  188.1\n",
              "2010-03-01 00:15:00    3.0  2010.0    3.0  1.0  ...  1014.6    0.0  2.754  192.0\n",
              "2010-03-01 00:20:00    5.0  2010.0    3.0  1.0  ...  1014.6    0.0  3.986  203.1\n",
              "2010-03-01 00:25:00    7.0  2010.0    3.0  1.0  ...  1014.6    0.0  2.765  198.9\n",
              "2010-03-01 00:30:00    9.0  2010.0    3.0  1.0  ...  1014.6    0.0  2.878  193.4\n",
              "2010-03-01 00:35:00   11.0  2010.0    3.0  1.0  ...  1014.4    0.0  2.802  194.8\n",
              "2010-03-01 00:40:00   12.0  2010.0    3.0  1.0  ...  1014.4    0.0  2.740  193.4\n",
              "2010-03-01 00:45:00   13.0  2010.0    3.0  1.0  ...  1014.3    0.0  2.514  192.2\n",
              "2010-03-01 00:50:00   14.0  2010.0    3.0  1.0  ...  1014.3    0.0  3.044  195.5\n",
              "2010-03-01 00:55:00   11.0  2010.0    3.0  1.0  ...  1014.2    0.0  3.203  198.4\n",
              "2010-03-01 01:00:00   12.0  2010.0    3.0  1.0  ...  1014.2    0.0  2.355  192.0\n",
              "2010-03-01 01:05:00   13.0  2010.0    3.0  1.0  ...  1014.2    0.0  2.787  202.1\n",
              "2010-03-01 01:10:00   14.0  2010.0    3.0  1.0  ...  1014.1    0.0  2.824  197.1\n",
              "\n",
              "[15 rows x 12 columns]"
            ]
          },
          "metadata": {
            "tags": []
          },
          "execution_count": 20
        }
      ]
    },
    {
      "cell_type": "code",
      "metadata": {
        "id": "cFOWDtSrOrDa",
        "colab_type": "code",
        "outputId": "be5a9148-cc28-456e-af0e-590989d072a3",
        "colab": {
          "base_uri": "https://localhost:8080/",
          "height": 173
        }
      },
      "source": [
        "df4.loc[df4.index.duplicated(keep='last')] # mantenha o último"
      ],
      "execution_count": 0,
      "outputs": [
        {
          "output_type": "execute_result",
          "data": {
            "text/html": [
              "<div>\n",
              "<style scoped>\n",
              "    .dataframe tbody tr th:only-of-type {\n",
              "        vertical-align: middle;\n",
              "    }\n",
              "\n",
              "    .dataframe tbody tr th {\n",
              "        vertical-align: top;\n",
              "    }\n",
              "\n",
              "    .dataframe thead th {\n",
              "        text-align: right;\n",
              "    }\n",
              "</style>\n",
              "<table border=\"1\" class=\"dataframe\">\n",
              "  <thead>\n",
              "    <tr style=\"text-align: right;\">\n",
              "      <th></th>\n",
              "      <th>index</th>\n",
              "      <th>year</th>\n",
              "      <th>month</th>\n",
              "      <th>day</th>\n",
              "      <th>hour</th>\n",
              "      <th>minute</th>\n",
              "      <th>tp</th>\n",
              "      <th>rh</th>\n",
              "      <th>pre</th>\n",
              "      <th>chuva</th>\n",
              "      <th>vel</th>\n",
              "      <th>dir</th>\n",
              "    </tr>\n",
              "  </thead>\n",
              "  <tbody>\n",
              "    <tr>\n",
              "      <th>2010-03-01 00:15:00</th>\n",
              "      <td>3.0</td>\n",
              "      <td>2010.0</td>\n",
              "      <td>3.0</td>\n",
              "      <td>1.0</td>\n",
              "      <td>0.0</td>\n",
              "      <td>15.0</td>\n",
              "      <td>21.12</td>\n",
              "      <td>73.0</td>\n",
              "      <td>1014.6</td>\n",
              "      <td>0.0</td>\n",
              "      <td>2.754</td>\n",
              "      <td>192.0</td>\n",
              "    </tr>\n",
              "    <tr>\n",
              "      <th>2010-03-01 00:20:00</th>\n",
              "      <td>5.0</td>\n",
              "      <td>2010.0</td>\n",
              "      <td>3.0</td>\n",
              "      <td>1.0</td>\n",
              "      <td>0.0</td>\n",
              "      <td>20.0</td>\n",
              "      <td>21.05</td>\n",
              "      <td>73.4</td>\n",
              "      <td>1014.6</td>\n",
              "      <td>0.0</td>\n",
              "      <td>3.986</td>\n",
              "      <td>203.1</td>\n",
              "    </tr>\n",
              "    <tr>\n",
              "      <th>2010-03-01 00:25:00</th>\n",
              "      <td>7.0</td>\n",
              "      <td>2010.0</td>\n",
              "      <td>3.0</td>\n",
              "      <td>1.0</td>\n",
              "      <td>0.0</td>\n",
              "      <td>25.0</td>\n",
              "      <td>21.09</td>\n",
              "      <td>72.8</td>\n",
              "      <td>1014.6</td>\n",
              "      <td>0.0</td>\n",
              "      <td>2.765</td>\n",
              "      <td>198.9</td>\n",
              "    </tr>\n",
              "    <tr>\n",
              "      <th>2010-03-01 00:30:00</th>\n",
              "      <td>9.0</td>\n",
              "      <td>2010.0</td>\n",
              "      <td>3.0</td>\n",
              "      <td>1.0</td>\n",
              "      <td>0.0</td>\n",
              "      <td>30.0</td>\n",
              "      <td>21.09</td>\n",
              "      <td>73.6</td>\n",
              "      <td>1014.6</td>\n",
              "      <td>0.0</td>\n",
              "      <td>2.878</td>\n",
              "      <td>193.4</td>\n",
              "    </tr>\n",
              "  </tbody>\n",
              "</table>\n",
              "</div>"
            ],
            "text/plain": [
              "                     index    year  month  day  ...     pre  chuva    vel    dir\n",
              "2010-03-01 00:15:00    3.0  2010.0    3.0  1.0  ...  1014.6    0.0  2.754  192.0\n",
              "2010-03-01 00:20:00    5.0  2010.0    3.0  1.0  ...  1014.6    0.0  3.986  203.1\n",
              "2010-03-01 00:25:00    7.0  2010.0    3.0  1.0  ...  1014.6    0.0  2.765  198.9\n",
              "2010-03-01 00:30:00    9.0  2010.0    3.0  1.0  ...  1014.6    0.0  2.878  193.4\n",
              "\n",
              "[4 rows x 12 columns]"
            ]
          },
          "metadata": {
            "tags": []
          },
          "execution_count": 21
        }
      ]
    },
    {
      "cell_type": "code",
      "metadata": {
        "id": "JlbLBuz_L_H5",
        "colab_type": "code",
        "outputId": "3ed9ef87-3cf7-4d38-d263-581b79e4c368",
        "colab": {
          "base_uri": "https://localhost:8080/",
          "height": 514
        }
      },
      "source": [
        "df5=df4.loc[~df4.index.duplicated(keep='last')] # separa apenas os dados não duplicados\n",
        "df5.head(15)"
      ],
      "execution_count": 0,
      "outputs": [
        {
          "output_type": "execute_result",
          "data": {
            "text/html": [
              "<div>\n",
              "<style scoped>\n",
              "    .dataframe tbody tr th:only-of-type {\n",
              "        vertical-align: middle;\n",
              "    }\n",
              "\n",
              "    .dataframe tbody tr th {\n",
              "        vertical-align: top;\n",
              "    }\n",
              "\n",
              "    .dataframe thead th {\n",
              "        text-align: right;\n",
              "    }\n",
              "</style>\n",
              "<table border=\"1\" class=\"dataframe\">\n",
              "  <thead>\n",
              "    <tr style=\"text-align: right;\">\n",
              "      <th></th>\n",
              "      <th>index</th>\n",
              "      <th>year</th>\n",
              "      <th>month</th>\n",
              "      <th>day</th>\n",
              "      <th>hour</th>\n",
              "      <th>minute</th>\n",
              "      <th>tp</th>\n",
              "      <th>rh</th>\n",
              "      <th>pre</th>\n",
              "      <th>chuva</th>\n",
              "      <th>vel</th>\n",
              "      <th>dir</th>\n",
              "    </tr>\n",
              "  </thead>\n",
              "  <tbody>\n",
              "    <tr>\n",
              "      <th>2010-03-01 00:00:00</th>\n",
              "      <td>0.0</td>\n",
              "      <td>2010.0</td>\n",
              "      <td>3.0</td>\n",
              "      <td>1.0</td>\n",
              "      <td>0.0</td>\n",
              "      <td>0.0</td>\n",
              "      <td>21.19</td>\n",
              "      <td>72.1</td>\n",
              "      <td>1014.7</td>\n",
              "      <td>0.0</td>\n",
              "      <td>2.422</td>\n",
              "      <td>181.5</td>\n",
              "    </tr>\n",
              "    <tr>\n",
              "      <th>2010-03-01 00:05:00</th>\n",
              "      <td>1.0</td>\n",
              "      <td>2010.0</td>\n",
              "      <td>3.0</td>\n",
              "      <td>1.0</td>\n",
              "      <td>0.0</td>\n",
              "      <td>5.0</td>\n",
              "      <td>21.12</td>\n",
              "      <td>72.5</td>\n",
              "      <td>1014.7</td>\n",
              "      <td>0.0</td>\n",
              "      <td>3.397</td>\n",
              "      <td>193.8</td>\n",
              "    </tr>\n",
              "    <tr>\n",
              "      <th>2010-03-01 00:10:00</th>\n",
              "      <td>2.0</td>\n",
              "      <td>2010.0</td>\n",
              "      <td>3.0</td>\n",
              "      <td>1.0</td>\n",
              "      <td>0.0</td>\n",
              "      <td>10.0</td>\n",
              "      <td>21.12</td>\n",
              "      <td>73.2</td>\n",
              "      <td>1014.6</td>\n",
              "      <td>0.0</td>\n",
              "      <td>2.950</td>\n",
              "      <td>188.1</td>\n",
              "    </tr>\n",
              "    <tr>\n",
              "      <th>2010-03-01 00:15:00</th>\n",
              "      <td>4.0</td>\n",
              "      <td>2010.0</td>\n",
              "      <td>3.0</td>\n",
              "      <td>1.0</td>\n",
              "      <td>0.0</td>\n",
              "      <td>15.0</td>\n",
              "      <td>21.12</td>\n",
              "      <td>73.0</td>\n",
              "      <td>1014.6</td>\n",
              "      <td>0.0</td>\n",
              "      <td>2.754</td>\n",
              "      <td>192.0</td>\n",
              "    </tr>\n",
              "    <tr>\n",
              "      <th>2010-03-01 00:20:00</th>\n",
              "      <td>6.0</td>\n",
              "      <td>2010.0</td>\n",
              "      <td>3.0</td>\n",
              "      <td>1.0</td>\n",
              "      <td>0.0</td>\n",
              "      <td>20.0</td>\n",
              "      <td>21.05</td>\n",
              "      <td>73.4</td>\n",
              "      <td>1014.6</td>\n",
              "      <td>0.0</td>\n",
              "      <td>3.986</td>\n",
              "      <td>203.1</td>\n",
              "    </tr>\n",
              "    <tr>\n",
              "      <th>2010-03-01 00:25:00</th>\n",
              "      <td>8.0</td>\n",
              "      <td>2010.0</td>\n",
              "      <td>3.0</td>\n",
              "      <td>1.0</td>\n",
              "      <td>0.0</td>\n",
              "      <td>25.0</td>\n",
              "      <td>21.09</td>\n",
              "      <td>72.8</td>\n",
              "      <td>1014.6</td>\n",
              "      <td>0.0</td>\n",
              "      <td>2.765</td>\n",
              "      <td>198.9</td>\n",
              "    </tr>\n",
              "    <tr>\n",
              "      <th>2010-03-01 00:30:00</th>\n",
              "      <td>10.0</td>\n",
              "      <td>2010.0</td>\n",
              "      <td>3.0</td>\n",
              "      <td>1.0</td>\n",
              "      <td>0.0</td>\n",
              "      <td>30.0</td>\n",
              "      <td>21.09</td>\n",
              "      <td>73.6</td>\n",
              "      <td>1014.6</td>\n",
              "      <td>0.0</td>\n",
              "      <td>2.878</td>\n",
              "      <td>193.4</td>\n",
              "    </tr>\n",
              "    <tr>\n",
              "      <th>2010-03-01 00:35:00</th>\n",
              "      <td>11.0</td>\n",
              "      <td>2010.0</td>\n",
              "      <td>3.0</td>\n",
              "      <td>1.0</td>\n",
              "      <td>0.0</td>\n",
              "      <td>35.0</td>\n",
              "      <td>20.95</td>\n",
              "      <td>73.5</td>\n",
              "      <td>1014.4</td>\n",
              "      <td>0.0</td>\n",
              "      <td>2.802</td>\n",
              "      <td>194.8</td>\n",
              "    </tr>\n",
              "    <tr>\n",
              "      <th>2010-03-01 00:40:00</th>\n",
              "      <td>12.0</td>\n",
              "      <td>2010.0</td>\n",
              "      <td>3.0</td>\n",
              "      <td>1.0</td>\n",
              "      <td>0.0</td>\n",
              "      <td>40.0</td>\n",
              "      <td>21.09</td>\n",
              "      <td>73.5</td>\n",
              "      <td>1014.4</td>\n",
              "      <td>0.0</td>\n",
              "      <td>2.740</td>\n",
              "      <td>193.4</td>\n",
              "    </tr>\n",
              "    <tr>\n",
              "      <th>2010-03-01 00:45:00</th>\n",
              "      <td>13.0</td>\n",
              "      <td>2010.0</td>\n",
              "      <td>3.0</td>\n",
              "      <td>1.0</td>\n",
              "      <td>0.0</td>\n",
              "      <td>45.0</td>\n",
              "      <td>20.92</td>\n",
              "      <td>73.3</td>\n",
              "      <td>1014.3</td>\n",
              "      <td>0.0</td>\n",
              "      <td>2.514</td>\n",
              "      <td>192.2</td>\n",
              "    </tr>\n",
              "    <tr>\n",
              "      <th>2010-03-01 00:50:00</th>\n",
              "      <td>14.0</td>\n",
              "      <td>2010.0</td>\n",
              "      <td>3.0</td>\n",
              "      <td>1.0</td>\n",
              "      <td>0.0</td>\n",
              "      <td>50.0</td>\n",
              "      <td>20.99</td>\n",
              "      <td>72.9</td>\n",
              "      <td>1014.3</td>\n",
              "      <td>0.0</td>\n",
              "      <td>3.044</td>\n",
              "      <td>195.5</td>\n",
              "    </tr>\n",
              "    <tr>\n",
              "      <th>2010-03-01 00:55:00</th>\n",
              "      <td>11.0</td>\n",
              "      <td>2010.0</td>\n",
              "      <td>3.0</td>\n",
              "      <td>1.0</td>\n",
              "      <td>0.0</td>\n",
              "      <td>55.0</td>\n",
              "      <td>20.92</td>\n",
              "      <td>73.1</td>\n",
              "      <td>1014.2</td>\n",
              "      <td>0.0</td>\n",
              "      <td>3.203</td>\n",
              "      <td>198.4</td>\n",
              "    </tr>\n",
              "    <tr>\n",
              "      <th>2010-03-01 01:00:00</th>\n",
              "      <td>12.0</td>\n",
              "      <td>2010.0</td>\n",
              "      <td>3.0</td>\n",
              "      <td>1.0</td>\n",
              "      <td>1.0</td>\n",
              "      <td>0.0</td>\n",
              "      <td>20.89</td>\n",
              "      <td>73.3</td>\n",
              "      <td>1014.2</td>\n",
              "      <td>0.0</td>\n",
              "      <td>2.355</td>\n",
              "      <td>192.0</td>\n",
              "    </tr>\n",
              "    <tr>\n",
              "      <th>2010-03-01 01:05:00</th>\n",
              "      <td>13.0</td>\n",
              "      <td>2010.0</td>\n",
              "      <td>3.0</td>\n",
              "      <td>1.0</td>\n",
              "      <td>1.0</td>\n",
              "      <td>5.0</td>\n",
              "      <td>20.89</td>\n",
              "      <td>73.5</td>\n",
              "      <td>1014.2</td>\n",
              "      <td>0.0</td>\n",
              "      <td>2.787</td>\n",
              "      <td>202.1</td>\n",
              "    </tr>\n",
              "    <tr>\n",
              "      <th>2010-03-01 01:10:00</th>\n",
              "      <td>14.0</td>\n",
              "      <td>2010.0</td>\n",
              "      <td>3.0</td>\n",
              "      <td>1.0</td>\n",
              "      <td>1.0</td>\n",
              "      <td>10.0</td>\n",
              "      <td>20.95</td>\n",
              "      <td>73.0</td>\n",
              "      <td>1014.1</td>\n",
              "      <td>0.0</td>\n",
              "      <td>2.824</td>\n",
              "      <td>197.1</td>\n",
              "    </tr>\n",
              "  </tbody>\n",
              "</table>\n",
              "</div>"
            ],
            "text/plain": [
              "                     index    year  month  day  ...     pre  chuva    vel    dir\n",
              "2010-03-01 00:00:00    0.0  2010.0    3.0  1.0  ...  1014.7    0.0  2.422  181.5\n",
              "2010-03-01 00:05:00    1.0  2010.0    3.0  1.0  ...  1014.7    0.0  3.397  193.8\n",
              "2010-03-01 00:10:00    2.0  2010.0    3.0  1.0  ...  1014.6    0.0  2.950  188.1\n",
              "2010-03-01 00:15:00    4.0  2010.0    3.0  1.0  ...  1014.6    0.0  2.754  192.0\n",
              "2010-03-01 00:20:00    6.0  2010.0    3.0  1.0  ...  1014.6    0.0  3.986  203.1\n",
              "2010-03-01 00:25:00    8.0  2010.0    3.0  1.0  ...  1014.6    0.0  2.765  198.9\n",
              "2010-03-01 00:30:00   10.0  2010.0    3.0  1.0  ...  1014.6    0.0  2.878  193.4\n",
              "2010-03-01 00:35:00   11.0  2010.0    3.0  1.0  ...  1014.4    0.0  2.802  194.8\n",
              "2010-03-01 00:40:00   12.0  2010.0    3.0  1.0  ...  1014.4    0.0  2.740  193.4\n",
              "2010-03-01 00:45:00   13.0  2010.0    3.0  1.0  ...  1014.3    0.0  2.514  192.2\n",
              "2010-03-01 00:50:00   14.0  2010.0    3.0  1.0  ...  1014.3    0.0  3.044  195.5\n",
              "2010-03-01 00:55:00   11.0  2010.0    3.0  1.0  ...  1014.2    0.0  3.203  198.4\n",
              "2010-03-01 01:00:00   12.0  2010.0    3.0  1.0  ...  1014.2    0.0  2.355  192.0\n",
              "2010-03-01 01:05:00   13.0  2010.0    3.0  1.0  ...  1014.2    0.0  2.787  202.1\n",
              "2010-03-01 01:10:00   14.0  2010.0    3.0  1.0  ...  1014.1    0.0  2.824  197.1\n",
              "\n",
              "[15 rows x 12 columns]"
            ]
          },
          "metadata": {
            "tags": []
          },
          "execution_count": 22
        }
      ]
    },
    {
      "cell_type": "code",
      "metadata": {
        "id": "qb82wOHLPZ5D",
        "colab_type": "code",
        "outputId": "c904fc99-197a-42e8-b368-39fc63248e37",
        "colab": {
          "base_uri": "https://localhost:8080/",
          "height": 282
        }
      },
      "source": [
        "plt.plot(np.arange(0,11,1),df5.loc['2010-03-01 00:00:00':'2010-03-01 00:50:00','vel'])\n",
        "plt.plot(np.arange(0,15,1),df4.loc['2010-03-01 00:00:00':'2010-03-01 00:50:00','vel'])"
      ],
      "execution_count": 0,
      "outputs": [
        {
          "output_type": "execute_result",
          "data": {
            "text/plain": [
              "[<matplotlib.lines.Line2D at 0x7f1eb99a35c0>]"
            ]
          },
          "metadata": {
            "tags": []
          },
          "execution_count": 23
        },
        {
          "output_type": "display_data",
          "data": {
            "image/png": "[encoded data removed]",
            "text/plain": [
              "<Figure size 432x288 with 1 Axes>"
            ]
          },
          "metadata": {
            "tags": [],
            "needs_background": "light"
          }
        }
      ]
    },
    {
      "cell_type": "markdown",
      "metadata": {
        "id": "-A0gNRMBJCNT",
        "colab_type": "text"
      },
      "source": [
        "# 06) Dataframe - Remover dados ruins manualmente"
      ]
    },
    {
      "cell_type": "code",
      "metadata": {
        "id": "3ozltCXzX27H",
        "colab_type": "code",
        "outputId": "9d366eaa-9db1-4227-e062-db9b8d854746",
        "colab": {
          "base_uri": "https://localhost:8080/",
          "height": 282
        }
      },
      "source": [
        "#!pip install mpld3\n",
        "#import mpld3\n",
        "#mpld3.enable_notebook()\n",
        "\n",
        "df6=df5.copy()\n",
        "plt.plot(df6.tp)"
      ],
      "execution_count": 0,
      "outputs": [
        {
          "output_type": "execute_result",
          "data": {
            "text/plain": [
              "[<matplotlib.lines.Line2D at 0x7f1eb9888ba8>]"
            ]
          },
          "metadata": {
            "tags": []
          },
          "execution_count": 24
        },
        {
          "output_type": "display_data",
          "data": {
            "image/png": "[encoded data removed]",
            "text/plain": [
              "<Figure size 432x288 with 1 Axes>"
            ]
          },
          "metadata": {
            "tags": [],
            "needs_background": "light"
          }
        }
      ]
    },
    {
      "cell_type": "code",
      "metadata": {
        "id": "VtDlhZmSq2Dk",
        "colab_type": "code",
        "outputId": "35ec2fa5-4e69-4c2b-bc6a-10cf77041796",
        "colab": {
          "base_uri": "https://localhost:8080/",
          "height": 265
        }
      },
      "source": [
        "#df6.loc['2010-03-12 07:00:00':'2010-03-14 11:30:00','tp']=np.nan\n",
        "#df6['2010-03-12 07:00:00':'2010-03-14 11:30:00'].tp=np.nan\n",
        "df6.tp['2010-03-12 07:00:00':'2010-03-14 14:00:00']=np.nan\n",
        "\n",
        "plt.plot(df5.tp)\n",
        "plt.plot(df6.tp)\n",
        "\n",
        "df6['tp'].to_csv('saida3.txt') # ver a saída de dados com linhas vazias\n"
      ],
      "execution_count": 0,
      "outputs": [
        {
          "output_type": "display_data",
          "data": {
            "image/png": "[encoded data removed]",
            "text/plain": [
              "<Figure size 432x288 with 1 Axes>"
            ]
          },
          "metadata": {
            "tags": [],
            "needs_background": "light"
          }
        }
      ]
    },
    {
      "cell_type": "code",
      "metadata": {
        "id": "wkN97UmEvtq2",
        "colab_type": "code",
        "outputId": "fe3691d6-34c3-46f2-a88f-ddc2e3e4343e",
        "colab": {
          "base_uri": "https://localhost:8080/",
          "height": 221
        }
      },
      "source": [
        "df6.tp['2010-03-12 06:50:00':'2010-03-14 14:10:00']"
      ],
      "execution_count": 0,
      "outputs": [
        {
          "output_type": "execute_result",
          "data": {
            "text/plain": [
              "2010-03-12 06:50:00    20.22\n",
              "2010-03-12 06:55:00    20.19\n",
              "2010-03-12 07:00:00      NaN\n",
              "2010-03-12 07:05:00      NaN\n",
              "2010-03-12 07:10:00      NaN\n",
              "                       ...  \n",
              "2010-03-14 13:50:00      NaN\n",
              "2010-03-14 13:55:00      NaN\n",
              "2010-03-14 14:00:00      NaN\n",
              "2010-03-14 14:05:00    23.36\n",
              "2010-03-14 14:10:00    22.73\n",
              "Name: tp, Length: 665, dtype: float64"
            ]
          },
          "metadata": {
            "tags": []
          },
          "execution_count": 26
        }
      ]
    },
    {
      "cell_type": "markdown",
      "metadata": {
        "id": "t7Jt5ZTjRqf0",
        "colab_type": "text"
      },
      "source": [
        "# 07) Dataframe - Preencher a série - Interpolação"
      ]
    },
    {
      "cell_type": "code",
      "metadata": {
        "id": "80Fn06eEKiJC",
        "colab_type": "code",
        "outputId": "d4c4895d-c308-4e1c-adc7-040460adc386",
        "colab": {
          "base_uri": "https://localhost:8080/",
          "height": 265
        }
      },
      "source": [
        "df7=df6.fillna(0) # preencher com zero todo o dataframe\n",
        "plt.plot(df7.tp)\n",
        "\n",
        "df7['tp'].to_csv('saida4.txt') # ver a saída de dados com linhas vazias\n",
        "#df7['2010-03-12 06:50:00':'2010-03-14 14:10:00']"
      ],
      "execution_count": 0,
      "outputs": [
        {
          "output_type": "display_data",
          "data": {
            "image/png": "[encoded data removed]",
            "text/plain": [
              "<Figure size 432x288 with 1 Axes>"
            ]
          },
          "metadata": {
            "tags": [],
            "needs_background": "light"
          }
        }
      ]
    },
    {
      "cell_type": "code",
      "metadata": {
        "id": "X5j4HvHPwaWu",
        "colab_type": "code",
        "outputId": "31554b62-1673-444c-9371-a992fe709501",
        "colab": {
          "base_uri": "https://localhost:8080/",
          "height": 282
        }
      },
      "source": [
        "df8=df6.fillna(method='bfill') # preencher com os dados anterior\n",
        "plt.plot(df8.tp)\n"
      ],
      "execution_count": 0,
      "outputs": [
        {
          "output_type": "execute_result",
          "data": {
            "text/plain": [
              "[<matplotlib.lines.Line2D at 0x7f1eb96f6fd0>]"
            ]
          },
          "metadata": {
            "tags": []
          },
          "execution_count": 28
        },
        {
          "output_type": "display_data",
          "data": {
            "image/png": "[encoded data removed]",
            "text/plain": [
              "<Figure size 432x288 with 1 Axes>"
            ]
          },
          "metadata": {
            "tags": [],
            "needs_background": "light"
          }
        }
      ]
    },
    {
      "cell_type": "code",
      "metadata": {
        "id": "qMmpmFgWzfjv",
        "colab_type": "code",
        "outputId": "f8513470-1897-4911-aaf4-b39f8650bc64",
        "colab": {
          "base_uri": "https://localhost:8080/",
          "height": 282
        }
      },
      "source": [
        "df9=df6.fillna(method='ffill') # preencher com os dados posterior\n",
        "plt.plot(df9.tp)"
      ],
      "execution_count": 0,
      "outputs": [
        {
          "output_type": "execute_result",
          "data": {
            "text/plain": [
              "[<matplotlib.lines.Line2D at 0x7f1eb96c65f8>]"
            ]
          },
          "metadata": {
            "tags": []
          },
          "execution_count": 29
        },
        {
          "output_type": "display_data",
          "data": {
            "image/png": "[encoded data removed]",
            "text/plain": [
              "<Figure size 432x288 with 1 Axes>"
            ]
          },
          "metadata": {
            "tags": [],
            "needs_background": "light"
          }
        }
      ]
    },
    {
      "cell_type": "code",
      "metadata": {
        "id": "tL1AJERx2A9B",
        "colab_type": "code",
        "outputId": "65f57b5e-24f7-445d-867f-5d096db4ac1d",
        "colab": {
          "base_uri": "https://localhost:8080/",
          "height": 282
        }
      },
      "source": [
        "df10=df6.interpolate() # preencher fazendo interpolação\n",
        "plt.plot(df10.tp)"
      ],
      "execution_count": 0,
      "outputs": [
        {
          "output_type": "execute_result",
          "data": {
            "text/plain": [
              "[<matplotlib.lines.Line2D at 0x7f1eb962e8d0>]"
            ]
          },
          "metadata": {
            "tags": []
          },
          "execution_count": 30
        },
        {
          "output_type": "display_data",
          "data": {
            "image/png": "[encoded data removed]",
            "text/plain": [
              "<Figure size 432x288 with 1 Axes>"
            ]
          },
          "metadata": {
            "tags": [],
            "needs_background": "light"
          }
        }
      ]
    },
    {
      "cell_type": "code",
      "metadata": {
        "id": "PGDnBGcI2Mfy",
        "colab_type": "code",
        "outputId": "205376a4-71e6-48e2-fee7-b3aabc5f5691",
        "colab": {
          "base_uri": "https://localhost:8080/",
          "height": 282
        }
      },
      "source": [
        "df10=df6.interpolate(method='time') # fazendo a interpolação com o tempo\n",
        "plt.plot(df10.tp)"
      ],
      "execution_count": 0,
      "outputs": [
        {
          "output_type": "execute_result",
          "data": {
            "text/plain": [
              "[<matplotlib.lines.Line2D at 0x7f1eb3b662b0>]"
            ]
          },
          "metadata": {
            "tags": []
          },
          "execution_count": 44
        },
        {
          "output_type": "display_data",
          "data": {
            "image/png": "[encoded data removed]",
            "text/plain": [
              "<Figure size 432x288 with 1 Axes>"
            ]
          },
          "metadata": {
            "tags": [],
            "needs_background": "light"
          }
        }
      ]
    },
    {
      "cell_type": "code",
      "metadata": {
        "id": "JoMN9vf23TWp",
        "colab_type": "code",
        "outputId": "938d48e4-46d8-493d-87a8-daea51a8a336",
        "colab": {
          "base_uri": "https://localhost:8080/",
          "height": 282
        }
      },
      "source": [
        "df11=df10.iloc[0:20,:]\n",
        "\n",
        "df12.iloc[5:10,:]=np.ones(1)*(-9999)\n",
        "df12=df12.replace(-9999,np.nan) # substitui dados inválidos por NaN\n",
        "\n",
        "df13=df12.interpolate(method='time')\n",
        "df14=df12.interpolate(method='spline', order=3)\n",
        "\n",
        "plt.plot(df14.tp)\n",
        "plt.plot(df13.tp)\n",
        "plt.plot(df12.tp)\n",
        "plt.plot(df11.tp)\n"
      ],
      "execution_count": 0,
      "outputs": [
        {
          "output_type": "execute_result",
          "data": {
            "text/plain": [
              "[<matplotlib.lines.Line2D at 0x7f1eb3a74550>]"
            ]
          },
          "metadata": {
            "tags": []
          },
          "execution_count": 45
        },
        {
          "output_type": "display_data",
          "data": {
            "image/png": "[encoded data removed]",
            "text/plain": [
              "<Figure size 432x288 with 1 Axes>"
            ]
          },
          "metadata": {
            "tags": [],
            "needs_background": "light"
          }
        }
      ]
    },
    {
      "cell_type": "code",
      "metadata": {
        "id": "2nPBE2eG3AkY",
        "colab_type": "code",
        "colab": {}
      },
      "source": [
        ""
      ],
      "execution_count": 0,
      "outputs": []
    },
    {
      "cell_type": "markdown",
      "metadata": {
        "id": "ORYEFfqvJb1a",
        "colab_type": "text"
      },
      "source": [
        "# 08) Dataframe - Resumo dados ruins e bons (Percentual)"
      ]
    },
    {
      "cell_type": "code",
      "metadata": {
        "id": "HsivLS_N66pg",
        "colab_type": "code",
        "outputId": "5825220a-d4f4-4b78-ec2a-12bc21b0d2fd",
        "colab": {
          "base_uri": "https://localhost:8080/",
          "height": 282
        }
      },
      "source": [
        "plt.plot(df2.tp) # antes \n",
        "plt.plot(df6.tp) # depois\n"
      ],
      "execution_count": 0,
      "outputs": [
        {
          "output_type": "execute_result",
          "data": {
            "text/plain": [
              "[<matplotlib.lines.Line2D at 0x7f1eb3be4f60>]"
            ]
          },
          "metadata": {
            "tags": []
          },
          "execution_count": 46
        },
        {
          "output_type": "display_data",
          "data": {
            "image/png": "[encoded data removed]",
            "text/plain": [
              "<Figure size 432x288 with 1 Axes>"
            ]
          },
          "metadata": {
            "tags": [],
            "needs_background": "light"
          }
        }
      ]
    },
    {
      "cell_type": "code",
      "metadata": {
        "id": "HDmQcqZ860Hy",
        "colab_type": "code",
        "outputId": "d7a898b5-2c1b-4cc9-c7dd-fd6044c26828",
        "colab": {
          "base_uri": "https://localhost:8080/",
          "height": 238
        }
      },
      "source": [
        "df2.count()"
      ],
      "execution_count": 0,
      "outputs": [
        {
          "output_type": "execute_result",
          "data": {
            "text/plain": [
              "index     7928\n",
              "year      7928\n",
              "month     7928\n",
              "day       7928\n",
              "hour      7928\n",
              "minute    7928\n",
              "tp        7928\n",
              "rh        7928\n",
              "pre       7928\n",
              "chuva     7928\n",
              "vel       7928\n",
              "dir       7928\n",
              "dtype: int64"
            ]
          },
          "metadata": {
            "tags": []
          },
          "execution_count": 34
        }
      ]
    },
    {
      "cell_type": "code",
      "metadata": {
        "id": "3mlxpjKz8TPc",
        "colab_type": "code",
        "outputId": "f3560dbb-53a9-4be3-d89c-d023d04f7d68",
        "colab": {
          "base_uri": "https://localhost:8080/",
          "height": 238
        }
      },
      "source": [
        "df2.isna().sum()"
      ],
      "execution_count": 0,
      "outputs": [
        {
          "output_type": "execute_result",
          "data": {
            "text/plain": [
              "index     1000\n",
              "year      1000\n",
              "month     1000\n",
              "day       1000\n",
              "hour      1000\n",
              "minute    1000\n",
              "tp        1000\n",
              "rh        1000\n",
              "pre       1000\n",
              "chuva     1000\n",
              "vel       1000\n",
              "dir       1000\n",
              "dtype: int64"
            ]
          },
          "metadata": {
            "tags": []
          },
          "execution_count": 35
        }
      ]
    },
    {
      "cell_type": "code",
      "metadata": {
        "id": "GD334tKW8cgj",
        "colab_type": "code",
        "outputId": "87832e88-39e4-42fa-e543-67b117a41b1f",
        "colab": {
          "base_uri": "https://localhost:8080/",
          "height": 238
        }
      },
      "source": [
        "df6.isna().sum()"
      ],
      "execution_count": 0,
      "outputs": [
        {
          "output_type": "execute_result",
          "data": {
            "text/plain": [
              "index     1000\n",
              "year      1000\n",
              "month     1000\n",
              "day       1000\n",
              "hour      1000\n",
              "minute    1000\n",
              "tp        1661\n",
              "rh        1000\n",
              "pre       1000\n",
              "chuva     1000\n",
              "vel       1000\n",
              "dir       1000\n",
              "dtype: int64"
            ]
          },
          "metadata": {
            "tags": []
          },
          "execution_count": 36
        }
      ]
    },
    {
      "cell_type": "code",
      "metadata": {
        "id": "x_yYG6Pp8ysi",
        "colab_type": "code",
        "outputId": "51ce2adc-cfa0-4971-907f-401670d05ed2",
        "colab": {
          "base_uri": "https://localhost:8080/",
          "height": 421
        }
      },
      "source": [
        "flag=pd.DataFrame(df2.count(),columns=['total'])\n",
        "\n",
        "flag"
      ],
      "execution_count": 0,
      "outputs": [
        {
          "output_type": "execute_result",
          "data": {
            "text/html": [
              "<div>\n",
              "<style scoped>\n",
              "    .dataframe tbody tr th:only-of-type {\n",
              "        vertical-align: middle;\n",
              "    }\n",
              "\n",
              "    .dataframe tbody tr th {\n",
              "        vertical-align: top;\n",
              "    }\n",
              "\n",
              "    .dataframe thead th {\n",
              "        text-align: right;\n",
              "    }\n",
              "</style>\n",
              "<table border=\"1\" class=\"dataframe\">\n",
              "  <thead>\n",
              "    <tr style=\"text-align: right;\">\n",
              "      <th></th>\n",
              "      <th>total</th>\n",
              "    </tr>\n",
              "  </thead>\n",
              "  <tbody>\n",
              "    <tr>\n",
              "      <th>index</th>\n",
              "      <td>7928</td>\n",
              "    </tr>\n",
              "    <tr>\n",
              "      <th>year</th>\n",
              "      <td>7928</td>\n",
              "    </tr>\n",
              "    <tr>\n",
              "      <th>month</th>\n",
              "      <td>7928</td>\n",
              "    </tr>\n",
              "    <tr>\n",
              "      <th>day</th>\n",
              "      <td>7928</td>\n",
              "    </tr>\n",
              "    <tr>\n",
              "      <th>hour</th>\n",
              "      <td>7928</td>\n",
              "    </tr>\n",
              "    <tr>\n",
              "      <th>minute</th>\n",
              "      <td>7928</td>\n",
              "    </tr>\n",
              "    <tr>\n",
              "      <th>tp</th>\n",
              "      <td>7928</td>\n",
              "    </tr>\n",
              "    <tr>\n",
              "      <th>rh</th>\n",
              "      <td>7928</td>\n",
              "    </tr>\n",
              "    <tr>\n",
              "      <th>pre</th>\n",
              "      <td>7928</td>\n",
              "    </tr>\n",
              "    <tr>\n",
              "      <th>chuva</th>\n",
              "      <td>7928</td>\n",
              "    </tr>\n",
              "    <tr>\n",
              "      <th>vel</th>\n",
              "      <td>7928</td>\n",
              "    </tr>\n",
              "    <tr>\n",
              "      <th>dir</th>\n",
              "      <td>7928</td>\n",
              "    </tr>\n",
              "  </tbody>\n",
              "</table>\n",
              "</div>"
            ],
            "text/plain": [
              "        total\n",
              "index    7928\n",
              "year     7928\n",
              "month    7928\n",
              "day      7928\n",
              "hour     7928\n",
              "minute   7928\n",
              "tp       7928\n",
              "rh       7928\n",
              "pre      7928\n",
              "chuva    7928\n",
              "vel      7928\n",
              "dir      7928"
            ]
          },
          "metadata": {
            "tags": []
          },
          "execution_count": 37
        }
      ]
    },
    {
      "cell_type": "code",
      "metadata": {
        "id": "yUzYFtiI9Cop",
        "colab_type": "code",
        "outputId": "a02e7ec7-fd52-4a08-f292-12a29ee661b7",
        "colab": {
          "base_uri": "https://localhost:8080/",
          "height": 421
        }
      },
      "source": [
        "flag['vazio']=df2.isna().sum()\n",
        "\n",
        "flag"
      ],
      "execution_count": 0,
      "outputs": [
        {
          "output_type": "execute_result",
          "data": {
            "text/html": [
              "<div>\n",
              "<style scoped>\n",
              "    .dataframe tbody tr th:only-of-type {\n",
              "        vertical-align: middle;\n",
              "    }\n",
              "\n",
              "    .dataframe tbody tr th {\n",
              "        vertical-align: top;\n",
              "    }\n",
              "\n",
              "    .dataframe thead th {\n",
              "        text-align: right;\n",
              "    }\n",
              "</style>\n",
              "<table border=\"1\" class=\"dataframe\">\n",
              "  <thead>\n",
              "    <tr style=\"text-align: right;\">\n",
              "      <th></th>\n",
              "      <th>total</th>\n",
              "      <th>vazio</th>\n",
              "    </tr>\n",
              "  </thead>\n",
              "  <tbody>\n",
              "    <tr>\n",
              "      <th>index</th>\n",
              "      <td>7928</td>\n",
              "      <td>1000</td>\n",
              "    </tr>\n",
              "    <tr>\n",
              "      <th>year</th>\n",
              "      <td>7928</td>\n",
              "      <td>1000</td>\n",
              "    </tr>\n",
              "    <tr>\n",
              "      <th>month</th>\n",
              "      <td>7928</td>\n",
              "      <td>1000</td>\n",
              "    </tr>\n",
              "    <tr>\n",
              "      <th>day</th>\n",
              "      <td>7928</td>\n",
              "      <td>1000</td>\n",
              "    </tr>\n",
              "    <tr>\n",
              "      <th>hour</th>\n",
              "      <td>7928</td>\n",
              "      <td>1000</td>\n",
              "    </tr>\n",
              "    <tr>\n",
              "      <th>minute</th>\n",
              "      <td>7928</td>\n",
              "      <td>1000</td>\n",
              "    </tr>\n",
              "    <tr>\n",
              "      <th>tp</th>\n",
              "      <td>7928</td>\n",
              "      <td>1000</td>\n",
              "    </tr>\n",
              "    <tr>\n",
              "      <th>rh</th>\n",
              "      <td>7928</td>\n",
              "      <td>1000</td>\n",
              "    </tr>\n",
              "    <tr>\n",
              "      <th>pre</th>\n",
              "      <td>7928</td>\n",
              "      <td>1000</td>\n",
              "    </tr>\n",
              "    <tr>\n",
              "      <th>chuva</th>\n",
              "      <td>7928</td>\n",
              "      <td>1000</td>\n",
              "    </tr>\n",
              "    <tr>\n",
              "      <th>vel</th>\n",
              "      <td>7928</td>\n",
              "      <td>1000</td>\n",
              "    </tr>\n",
              "    <tr>\n",
              "      <th>dir</th>\n",
              "      <td>7928</td>\n",
              "      <td>1000</td>\n",
              "    </tr>\n",
              "  </tbody>\n",
              "</table>\n",
              "</div>"
            ],
            "text/plain": [
              "        total  vazio\n",
              "index    7928   1000\n",
              "year     7928   1000\n",
              "month    7928   1000\n",
              "day      7928   1000\n",
              "hour     7928   1000\n",
              "minute   7928   1000\n",
              "tp       7928   1000\n",
              "rh       7928   1000\n",
              "pre      7928   1000\n",
              "chuva    7928   1000\n",
              "vel      7928   1000\n",
              "dir      7928   1000"
            ]
          },
          "metadata": {
            "tags": []
          },
          "execution_count": 38
        }
      ]
    },
    {
      "cell_type": "code",
      "metadata": {
        "id": "T_q6WEsa98ls",
        "colab_type": "code",
        "outputId": "105e2b2b-e15a-4122-b8a8-e14d974edae1",
        "colab": {
          "base_uri": "https://localhost:8080/",
          "height": 421
        }
      },
      "source": [
        "flag['removido']=df6.isna().sum()-df2.isna().sum()\n",
        "flag"
      ],
      "execution_count": 0,
      "outputs": [
        {
          "output_type": "execute_result",
          "data": {
            "text/html": [
              "<div>\n",
              "<style scoped>\n",
              "    .dataframe tbody tr th:only-of-type {\n",
              "        vertical-align: middle;\n",
              "    }\n",
              "\n",
              "    .dataframe tbody tr th {\n",
              "        vertical-align: top;\n",
              "    }\n",
              "\n",
              "    .dataframe thead th {\n",
              "        text-align: right;\n",
              "    }\n",
              "</style>\n",
              "<table border=\"1\" class=\"dataframe\">\n",
              "  <thead>\n",
              "    <tr style=\"text-align: right;\">\n",
              "      <th></th>\n",
              "      <th>total</th>\n",
              "      <th>vazio</th>\n",
              "      <th>removido</th>\n",
              "    </tr>\n",
              "  </thead>\n",
              "  <tbody>\n",
              "    <tr>\n",
              "      <th>index</th>\n",
              "      <td>7928</td>\n",
              "      <td>1000</td>\n",
              "      <td>0</td>\n",
              "    </tr>\n",
              "    <tr>\n",
              "      <th>year</th>\n",
              "      <td>7928</td>\n",
              "      <td>1000</td>\n",
              "      <td>0</td>\n",
              "    </tr>\n",
              "    <tr>\n",
              "      <th>month</th>\n",
              "      <td>7928</td>\n",
              "      <td>1000</td>\n",
              "      <td>0</td>\n",
              "    </tr>\n",
              "    <tr>\n",
              "      <th>day</th>\n",
              "      <td>7928</td>\n",
              "      <td>1000</td>\n",
              "      <td>0</td>\n",
              "    </tr>\n",
              "    <tr>\n",
              "      <th>hour</th>\n",
              "      <td>7928</td>\n",
              "      <td>1000</td>\n",
              "      <td>0</td>\n",
              "    </tr>\n",
              "    <tr>\n",
              "      <th>minute</th>\n",
              "      <td>7928</td>\n",
              "      <td>1000</td>\n",
              "      <td>0</td>\n",
              "    </tr>\n",
              "    <tr>\n",
              "      <th>tp</th>\n",
              "      <td>7928</td>\n",
              "      <td>1000</td>\n",
              "      <td>661</td>\n",
              "    </tr>\n",
              "    <tr>\n",
              "      <th>rh</th>\n",
              "      <td>7928</td>\n",
              "      <td>1000</td>\n",
              "      <td>0</td>\n",
              "    </tr>\n",
              "    <tr>\n",
              "      <th>pre</th>\n",
              "      <td>7928</td>\n",
              "      <td>1000</td>\n",
              "      <td>0</td>\n",
              "    </tr>\n",
              "    <tr>\n",
              "      <th>chuva</th>\n",
              "      <td>7928</td>\n",
              "      <td>1000</td>\n",
              "      <td>0</td>\n",
              "    </tr>\n",
              "    <tr>\n",
              "      <th>vel</th>\n",
              "      <td>7928</td>\n",
              "      <td>1000</td>\n",
              "      <td>0</td>\n",
              "    </tr>\n",
              "    <tr>\n",
              "      <th>dir</th>\n",
              "      <td>7928</td>\n",
              "      <td>1000</td>\n",
              "      <td>0</td>\n",
              "    </tr>\n",
              "  </tbody>\n",
              "</table>\n",
              "</div>"
            ],
            "text/plain": [
              "        total  vazio  removido\n",
              "index    7928   1000         0\n",
              "year     7928   1000         0\n",
              "month    7928   1000         0\n",
              "day      7928   1000         0\n",
              "hour     7928   1000         0\n",
              "minute   7928   1000         0\n",
              "tp       7928   1000       661\n",
              "rh       7928   1000         0\n",
              "pre      7928   1000         0\n",
              "chuva    7928   1000         0\n",
              "vel      7928   1000         0\n",
              "dir      7928   1000         0"
            ]
          },
          "metadata": {
            "tags": []
          },
          "execution_count": 39
        }
      ]
    },
    {
      "cell_type": "code",
      "metadata": {
        "id": "QzFzlc3E-iHs",
        "colab_type": "code",
        "outputId": "68c169f1-175e-4b0b-b5d5-b1f09fb65bee",
        "colab": {
          "base_uri": "https://localhost:8080/",
          "height": 421
        }
      },
      "source": [
        "flag['validos']=flag['total']-(flag['vazio']+flag['removido'])\n",
        "\n",
        "flag"
      ],
      "execution_count": 0,
      "outputs": [
        {
          "output_type": "execute_result",
          "data": {
            "text/html": [
              "<div>\n",
              "<style scoped>\n",
              "    .dataframe tbody tr th:only-of-type {\n",
              "        vertical-align: middle;\n",
              "    }\n",
              "\n",
              "    .dataframe tbody tr th {\n",
              "        vertical-align: top;\n",
              "    }\n",
              "\n",
              "    .dataframe thead th {\n",
              "        text-align: right;\n",
              "    }\n",
              "</style>\n",
              "<table border=\"1\" class=\"dataframe\">\n",
              "  <thead>\n",
              "    <tr style=\"text-align: right;\">\n",
              "      <th></th>\n",
              "      <th>total</th>\n",
              "      <th>vazio</th>\n",
              "      <th>removido</th>\n",
              "      <th>validos</th>\n",
              "    </tr>\n",
              "  </thead>\n",
              "  <tbody>\n",
              "    <tr>\n",
              "      <th>index</th>\n",
              "      <td>7928</td>\n",
              "      <td>1000</td>\n",
              "      <td>0</td>\n",
              "      <td>6928</td>\n",
              "    </tr>\n",
              "    <tr>\n",
              "      <th>year</th>\n",
              "      <td>7928</td>\n",
              "      <td>1000</td>\n",
              "      <td>0</td>\n",
              "      <td>6928</td>\n",
              "    </tr>\n",
              "    <tr>\n",
              "      <th>month</th>\n",
              "      <td>7928</td>\n",
              "      <td>1000</td>\n",
              "      <td>0</td>\n",
              "      <td>6928</td>\n",
              "    </tr>\n",
              "    <tr>\n",
              "      <th>day</th>\n",
              "      <td>7928</td>\n",
              "      <td>1000</td>\n",
              "      <td>0</td>\n",
              "      <td>6928</td>\n",
              "    </tr>\n",
              "    <tr>\n",
              "      <th>hour</th>\n",
              "      <td>7928</td>\n",
              "      <td>1000</td>\n",
              "      <td>0</td>\n",
              "      <td>6928</td>\n",
              "    </tr>\n",
              "    <tr>\n",
              "      <th>minute</th>\n",
              "      <td>7928</td>\n",
              "      <td>1000</td>\n",
              "      <td>0</td>\n",
              "      <td>6928</td>\n",
              "    </tr>\n",
              "    <tr>\n",
              "      <th>tp</th>\n",
              "      <td>7928</td>\n",
              "      <td>1000</td>\n",
              "      <td>661</td>\n",
              "      <td>6267</td>\n",
              "    </tr>\n",
              "    <tr>\n",
              "      <th>rh</th>\n",
              "      <td>7928</td>\n",
              "      <td>1000</td>\n",
              "      <td>0</td>\n",
              "      <td>6928</td>\n",
              "    </tr>\n",
              "    <tr>\n",
              "      <th>pre</th>\n",
              "      <td>7928</td>\n",
              "      <td>1000</td>\n",
              "      <td>0</td>\n",
              "      <td>6928</td>\n",
              "    </tr>\n",
              "    <tr>\n",
              "      <th>chuva</th>\n",
              "      <td>7928</td>\n",
              "      <td>1000</td>\n",
              "      <td>0</td>\n",
              "      <td>6928</td>\n",
              "    </tr>\n",
              "    <tr>\n",
              "      <th>vel</th>\n",
              "      <td>7928</td>\n",
              "      <td>1000</td>\n",
              "      <td>0</td>\n",
              "      <td>6928</td>\n",
              "    </tr>\n",
              "    <tr>\n",
              "      <th>dir</th>\n",
              "      <td>7928</td>\n",
              "      <td>1000</td>\n",
              "      <td>0</td>\n",
              "      <td>6928</td>\n",
              "    </tr>\n",
              "  </tbody>\n",
              "</table>\n",
              "</div>"
            ],
            "text/plain": [
              "        total  vazio  removido  validos\n",
              "index    7928   1000         0     6928\n",
              "year     7928   1000         0     6928\n",
              "month    7928   1000         0     6928\n",
              "day      7928   1000         0     6928\n",
              "hour     7928   1000         0     6928\n",
              "minute   7928   1000         0     6928\n",
              "tp       7928   1000       661     6267\n",
              "rh       7928   1000         0     6928\n",
              "pre      7928   1000         0     6928\n",
              "chuva    7928   1000         0     6928\n",
              "vel      7928   1000         0     6928\n",
              "dir      7928   1000         0     6928"
            ]
          },
          "metadata": {
            "tags": []
          },
          "execution_count": 40
        }
      ]
    },
    {
      "cell_type": "code",
      "metadata": {
        "id": "w4EeI9C1-1Ya",
        "colab_type": "code",
        "outputId": "fff52cc6-bfc6-423e-9b78-c91116bc236f",
        "colab": {
          "base_uri": "https://localhost:8080/",
          "height": 421
        }
      },
      "source": [
        "flag['DadoBom']=100*(flag['validos']/flag['total']).round(2) \n",
        "\n",
        "flag"
      ],
      "execution_count": 0,
      "outputs": [
        {
          "output_type": "execute_result",
          "data": {
            "text/html": [
              "<div>\n",
              "<style scoped>\n",
              "    .dataframe tbody tr th:only-of-type {\n",
              "        vertical-align: middle;\n",
              "    }\n",
              "\n",
              "    .dataframe tbody tr th {\n",
              "        vertical-align: top;\n",
              "    }\n",
              "\n",
              "    .dataframe thead th {\n",
              "        text-align: right;\n",
              "    }\n",
              "</style>\n",
              "<table border=\"1\" class=\"dataframe\">\n",
              "  <thead>\n",
              "    <tr style=\"text-align: right;\">\n",
              "      <th></th>\n",
              "      <th>total</th>\n",
              "      <th>vazio</th>\n",
              "      <th>removido</th>\n",
              "      <th>validos</th>\n",
              "      <th>DadoBom</th>\n",
              "    </tr>\n",
              "  </thead>\n",
              "  <tbody>\n",
              "    <tr>\n",
              "      <th>index</th>\n",
              "      <td>7928</td>\n",
              "      <td>1000</td>\n",
              "      <td>0</td>\n",
              "      <td>6928</td>\n",
              "      <td>87.0</td>\n",
              "    </tr>\n",
              "    <tr>\n",
              "      <th>year</th>\n",
              "      <td>7928</td>\n",
              "      <td>1000</td>\n",
              "      <td>0</td>\n",
              "      <td>6928</td>\n",
              "      <td>87.0</td>\n",
              "    </tr>\n",
              "    <tr>\n",
              "      <th>month</th>\n",
              "      <td>7928</td>\n",
              "      <td>1000</td>\n",
              "      <td>0</td>\n",
              "      <td>6928</td>\n",
              "      <td>87.0</td>\n",
              "    </tr>\n",
              "    <tr>\n",
              "      <th>day</th>\n",
              "      <td>7928</td>\n",
              "      <td>1000</td>\n",
              "      <td>0</td>\n",
              "      <td>6928</td>\n",
              "      <td>87.0</td>\n",
              "    </tr>\n",
              "    <tr>\n",
              "      <th>hour</th>\n",
              "      <td>7928</td>\n",
              "      <td>1000</td>\n",
              "      <td>0</td>\n",
              "      <td>6928</td>\n",
              "      <td>87.0</td>\n",
              "    </tr>\n",
              "    <tr>\n",
              "      <th>minute</th>\n",
              "      <td>7928</td>\n",
              "      <td>1000</td>\n",
              "      <td>0</td>\n",
              "      <td>6928</td>\n",
              "      <td>87.0</td>\n",
              "    </tr>\n",
              "    <tr>\n",
              "      <th>tp</th>\n",
              "      <td>7928</td>\n",
              "      <td>1000</td>\n",
              "      <td>661</td>\n",
              "      <td>6267</td>\n",
              "      <td>79.0</td>\n",
              "    </tr>\n",
              "    <tr>\n",
              "      <th>rh</th>\n",
              "      <td>7928</td>\n",
              "      <td>1000</td>\n",
              "      <td>0</td>\n",
              "      <td>6928</td>\n",
              "      <td>87.0</td>\n",
              "    </tr>\n",
              "    <tr>\n",
              "      <th>pre</th>\n",
              "      <td>7928</td>\n",
              "      <td>1000</td>\n",
              "      <td>0</td>\n",
              "      <td>6928</td>\n",
              "      <td>87.0</td>\n",
              "    </tr>\n",
              "    <tr>\n",
              "      <th>chuva</th>\n",
              "      <td>7928</td>\n",
              "      <td>1000</td>\n",
              "      <td>0</td>\n",
              "      <td>6928</td>\n",
              "      <td>87.0</td>\n",
              "    </tr>\n",
              "    <tr>\n",
              "      <th>vel</th>\n",
              "      <td>7928</td>\n",
              "      <td>1000</td>\n",
              "      <td>0</td>\n",
              "      <td>6928</td>\n",
              "      <td>87.0</td>\n",
              "    </tr>\n",
              "    <tr>\n",
              "      <th>dir</th>\n",
              "      <td>7928</td>\n",
              "      <td>1000</td>\n",
              "      <td>0</td>\n",
              "      <td>6928</td>\n",
              "      <td>87.0</td>\n",
              "    </tr>\n",
              "  </tbody>\n",
              "</table>\n",
              "</div>"
            ],
            "text/plain": [
              "        total  vazio  removido  validos  DadoBom\n",
              "index    7928   1000         0     6928     87.0\n",
              "year     7928   1000         0     6928     87.0\n",
              "month    7928   1000         0     6928     87.0\n",
              "day      7928   1000         0     6928     87.0\n",
              "hour     7928   1000         0     6928     87.0\n",
              "minute   7928   1000         0     6928     87.0\n",
              "tp       7928   1000       661     6267     79.0\n",
              "rh       7928   1000         0     6928     87.0\n",
              "pre      7928   1000         0     6928     87.0\n",
              "chuva    7928   1000         0     6928     87.0\n",
              "vel      7928   1000         0     6928     87.0\n",
              "dir      7928   1000         0     6928     87.0"
            ]
          },
          "metadata": {
            "tags": []
          },
          "execution_count": 41
        }
      ]
    },
    {
      "cell_type": "code",
      "metadata": {
        "id": "C0CjJvZE_Hro",
        "colab_type": "code",
        "outputId": "62ccc301-8b2e-47fb-b60d-7864d55e6f8f",
        "colab": {
          "base_uri": "https://localhost:8080/",
          "height": 421
        }
      },
      "source": [
        "flag['DadoRuim']=100*((flag['total']-flag['validos'])/flag['total']).round(2) \n",
        "\n",
        "flag"
      ],
      "execution_count": 0,
      "outputs": [
        {
          "output_type": "execute_result",
          "data": {
            "text/html": [
              "<div>\n",
              "<style scoped>\n",
              "    .dataframe tbody tr th:only-of-type {\n",
              "        vertical-align: middle;\n",
              "    }\n",
              "\n",
              "    .dataframe tbody tr th {\n",
              "        vertical-align: top;\n",
              "    }\n",
              "\n",
              "    .dataframe thead th {\n",
              "        text-align: right;\n",
              "    }\n",
              "</style>\n",
              "<table border=\"1\" class=\"dataframe\">\n",
              "  <thead>\n",
              "    <tr style=\"text-align: right;\">\n",
              "      <th></th>\n",
              "      <th>total</th>\n",
              "      <th>vazio</th>\n",
              "      <th>removido</th>\n",
              "      <th>validos</th>\n",
              "      <th>DadoBom</th>\n",
              "      <th>DadoRuim</th>\n",
              "    </tr>\n",
              "  </thead>\n",
              "  <tbody>\n",
              "    <tr>\n",
              "      <th>index</th>\n",
              "      <td>7928</td>\n",
              "      <td>1000</td>\n",
              "      <td>0</td>\n",
              "      <td>6928</td>\n",
              "      <td>87.0</td>\n",
              "      <td>13.0</td>\n",
              "    </tr>\n",
              "    <tr>\n",
              "      <th>year</th>\n",
              "      <td>7928</td>\n",
              "      <td>1000</td>\n",
              "      <td>0</td>\n",
              "      <td>6928</td>\n",
              "      <td>87.0</td>\n",
              "      <td>13.0</td>\n",
              "    </tr>\n",
              "    <tr>\n",
              "      <th>month</th>\n",
              "      <td>7928</td>\n",
              "      <td>1000</td>\n",
              "      <td>0</td>\n",
              "      <td>6928</td>\n",
              "      <td>87.0</td>\n",
              "      <td>13.0</td>\n",
              "    </tr>\n",
              "    <tr>\n",
              "      <th>day</th>\n",
              "      <td>7928</td>\n",
              "      <td>1000</td>\n",
              "      <td>0</td>\n",
              "      <td>6928</td>\n",
              "      <td>87.0</td>\n",
              "      <td>13.0</td>\n",
              "    </tr>\n",
              "    <tr>\n",
              "      <th>hour</th>\n",
              "      <td>7928</td>\n",
              "      <td>1000</td>\n",
              "      <td>0</td>\n",
              "      <td>6928</td>\n",
              "      <td>87.0</td>\n",
              "      <td>13.0</td>\n",
              "    </tr>\n",
              "    <tr>\n",
              "      <th>minute</th>\n",
              "      <td>7928</td>\n",
              "      <td>1000</td>\n",
              "      <td>0</td>\n",
              "      <td>6928</td>\n",
              "      <td>87.0</td>\n",
              "      <td>13.0</td>\n",
              "    </tr>\n",
              "    <tr>\n",
              "      <th>tp</th>\n",
              "      <td>7928</td>\n",
              "      <td>1000</td>\n",
              "      <td>661</td>\n",
              "      <td>6267</td>\n",
              "      <td>79.0</td>\n",
              "      <td>21.0</td>\n",
              "    </tr>\n",
              "    <tr>\n",
              "      <th>rh</th>\n",
              "      <td>7928</td>\n",
              "      <td>1000</td>\n",
              "      <td>0</td>\n",
              "      <td>6928</td>\n",
              "      <td>87.0</td>\n",
              "      <td>13.0</td>\n",
              "    </tr>\n",
              "    <tr>\n",
              "      <th>pre</th>\n",
              "      <td>7928</td>\n",
              "      <td>1000</td>\n",
              "      <td>0</td>\n",
              "      <td>6928</td>\n",
              "      <td>87.0</td>\n",
              "      <td>13.0</td>\n",
              "    </tr>\n",
              "    <tr>\n",
              "      <th>chuva</th>\n",
              "      <td>7928</td>\n",
              "      <td>1000</td>\n",
              "      <td>0</td>\n",
              "      <td>6928</td>\n",
              "      <td>87.0</td>\n",
              "      <td>13.0</td>\n",
              "    </tr>\n",
              "    <tr>\n",
              "      <th>vel</th>\n",
              "      <td>7928</td>\n",
              "      <td>1000</td>\n",
              "      <td>0</td>\n",
              "      <td>6928</td>\n",
              "      <td>87.0</td>\n",
              "      <td>13.0</td>\n",
              "    </tr>\n",
              "    <tr>\n",
              "      <th>dir</th>\n",
              "      <td>7928</td>\n",
              "      <td>1000</td>\n",
              "      <td>0</td>\n",
              "      <td>6928</td>\n",
              "      <td>87.0</td>\n",
              "      <td>13.0</td>\n",
              "    </tr>\n",
              "  </tbody>\n",
              "</table>\n",
              "</div>"
            ],
            "text/plain": [
              "        total  vazio  removido  validos  DadoBom  DadoRuim\n",
              "index    7928   1000         0     6928     87.0      13.0\n",
              "year     7928   1000         0     6928     87.0      13.0\n",
              "month    7928   1000         0     6928     87.0      13.0\n",
              "day      7928   1000         0     6928     87.0      13.0\n",
              "hour     7928   1000         0     6928     87.0      13.0\n",
              "minute   7928   1000         0     6928     87.0      13.0\n",
              "tp       7928   1000       661     6267     79.0      21.0\n",
              "rh       7928   1000         0     6928     87.0      13.0\n",
              "pre      7928   1000         0     6928     87.0      13.0\n",
              "chuva    7928   1000         0     6928     87.0      13.0\n",
              "vel      7928   1000         0     6928     87.0      13.0\n",
              "dir      7928   1000         0     6928     87.0      13.0"
            ]
          },
          "metadata": {
            "tags": []
          },
          "execution_count": 42
        }
      ]
    }
  ]
}